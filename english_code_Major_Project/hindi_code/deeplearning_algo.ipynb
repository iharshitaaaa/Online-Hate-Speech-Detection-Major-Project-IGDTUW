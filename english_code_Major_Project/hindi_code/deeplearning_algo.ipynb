{
  "cells": [
    {
      "cell_type": "markdown",
      "metadata": {
        "id": "LsUOz7gfzJVv"
      },
      "source": [
        "#Bert with BiLSTM"
      ]
    },
    {
      "cell_type": "code",
      "execution_count": 1,
      "metadata": {
        "colab": {
          "base_uri": "https://localhost:8080/",
          "height": 923,
          "referenced_widgets": [
            "30816bd9c6de4ceab4a804e390cd9735",
            "bab87c271a164292a2d336a385c9205a",
            "ec6fa3c7b6324f3cbe6e4b2e392486da",
            "e150f2cae4be4dcf9a9bb798e87f7f47",
            "8f858fa5c8c046998b6cb8a6cc649693",
            "092242be9d1a468b8222718da130226f",
            "6cb1cb266e4d4be58ee7740045cca26f",
            "7f671eb69a034293bbf8f87654ade8fa",
            "01ceaa31543540e3952dcfea9981aa5a",
            "af2f9b735aa044ffa696c01cd66860a2",
            "910b88a9da72431fb3b6158b92c3be8a",
            "677b94f5778a481eb79103266d27b79e",
            "aa038c96edb549b7bbbfb26f4a3aa91d",
            "b43cfd0bd3fa405e9a8e8465c4bd7d26",
            "22e8cc3e132443c98ced426109ca2687",
            "f4e00348f60842f2bc543b3243115522",
            "b6670914181742a291502f0dc8fc8ef4",
            "ceaeaf803fdb4be49b62c6acefee455b",
            "e416a2878cb449f5a77aba1e7dce7d1d",
            "4b975b7707ea463daebadcee38b08afc",
            "fcb85433447c45b08b2b35a0d82cdc8d",
            "440830cfef784827a88a59bd108a5a7a",
            "bc352e851ad646e4a35f3c6fec45948d",
            "3b5cf89905124f6f834696008b639ec5",
            "6495a207c9424257adb8d738e22f536a",
            "12ffb75c05ed4921a26bdd503391622d",
            "8400e44cee934c628c4786c18a4a738a",
            "2fa31442fc1b4c5e92621ef4e426c9e5",
            "cb611289acf04ee1b15c59962c063787",
            "4aff9d1290f247d5a90cf0a0c7c7aa38",
            "dee613da0924410aa66e211b95fad383",
            "4282c2fa8e1a49fca9f3d103984f90c0",
            "217670da85764e0483914b0d37cbd830",
            "14ef9cbd90ae4859bc768b3ac85ee626",
            "04c481016f64455e8930987cae29f51c",
            "9a96ac2331cb454389f686247b32f907",
            "285a9346c97242f896c1694bfc96cb27",
            "a7b4440c4ffd4ae5b8053b5e48eb16cd",
            "4e62a4dec10b4de89325685f40c295b8",
            "2210fda460af437aafcd2bd790624ba6",
            "9facd693de7c42928931a43026be1ce7",
            "ed4a4654029b400b95257e335ebcbb99",
            "3773e289c186489ba41cf17bbae1cdab",
            "0351b54a92bb4d86ad1eaa9a33f75ca3",
            "2147efcda2214646ab8f938ca3c3e77e",
            "c06a8fe9f3d142bd9dca93ae66d367c9",
            "6010c6e8d8ea4eeba318e5ec4c5efd8d",
            "3a6086a8213441bbab701653135107a2",
            "c49aea0344414af2b8b0466a41fc66bd",
            "3cae888bc77b490ebcd8b9cc6dcd694b",
            "8f89e02b7a804ff8b946a2273dffc827",
            "52fce3f7f9924187a1e21b7cbe72f94b",
            "12ad89a008ba4ae79b78f7d284ccd285",
            "f937a46a86ff47b79ca6bdafb59a5e4c",
            "faeb392ce11c42f0a1672cea11523181"
          ]
        },
        "id": "4saJmNPleU4s",
        "outputId": "9415cc36-5b34-4bd3-d722-fa5d6ecf9789"
      },
      "outputs": [
        {
          "name": "stderr",
          "output_type": "stream",
          "text": [
            "/usr/local/lib/python3.10/dist-packages/huggingface_hub/utils/_token.py:88: UserWarning: \n",
            "The secret `HF_TOKEN` does not exist in your Colab secrets.\n",
            "To authenticate with the Hugging Face Hub, create a token in your settings tab (https://huggingface.co/settings/tokens), set it as secret in your Google Colab and restart your session.\n",
            "You will be able to reuse this secret in all of your notebooks.\n",
            "Please note that authentication is recommended but still optional to access public models or datasets.\n",
            "  warnings.warn(\n"
          ]
        },
        {
          "data": {
            "application/vnd.jupyter.widget-view+json": {
              "model_id": "30816bd9c6de4ceab4a804e390cd9735",
              "version_major": 2,
              "version_minor": 0
            },
            "text/plain": [
              "tokenizer_config.json:   0%|          | 0.00/48.0 [00:00<?, ?B/s]"
            ]
          },
          "metadata": {},
          "output_type": "display_data"
        },
        {
          "data": {
            "application/vnd.jupyter.widget-view+json": {
              "model_id": "677b94f5778a481eb79103266d27b79e",
              "version_major": 2,
              "version_minor": 0
            },
            "text/plain": [
              "vocab.txt:   0%|          | 0.00/232k [00:00<?, ?B/s]"
            ]
          },
          "metadata": {},
          "output_type": "display_data"
        },
        {
          "data": {
            "application/vnd.jupyter.widget-view+json": {
              "model_id": "bc352e851ad646e4a35f3c6fec45948d",
              "version_major": 2,
              "version_minor": 0
            },
            "text/plain": [
              "tokenizer.json:   0%|          | 0.00/466k [00:00<?, ?B/s]"
            ]
          },
          "metadata": {},
          "output_type": "display_data"
        },
        {
          "data": {
            "application/vnd.jupyter.widget-view+json": {
              "model_id": "14ef9cbd90ae4859bc768b3ac85ee626",
              "version_major": 2,
              "version_minor": 0
            },
            "text/plain": [
              "config.json:   0%|          | 0.00/570 [00:00<?, ?B/s]"
            ]
          },
          "metadata": {},
          "output_type": "display_data"
        },
        {
          "data": {
            "application/vnd.jupyter.widget-view+json": {
              "model_id": "2147efcda2214646ab8f938ca3c3e77e",
              "version_major": 2,
              "version_minor": 0
            },
            "text/plain": [
              "model.safetensors:   0%|          | 0.00/440M [00:00<?, ?B/s]"
            ]
          },
          "metadata": {},
          "output_type": "display_data"
        },
        {
          "name": "stderr",
          "output_type": "stream",
          "text": [
            "Some weights of the PyTorch model were not used when initializing the TF 2.0 model TFBertModel: ['cls.predictions.transform.dense.bias', 'cls.predictions.transform.LayerNorm.bias', 'cls.seq_relationship.bias', 'cls.predictions.transform.dense.weight', 'cls.seq_relationship.weight', 'cls.predictions.bias', 'cls.predictions.transform.LayerNorm.weight']\n",
            "- This IS expected if you are initializing TFBertModel from a PyTorch model trained on another task or with another architecture (e.g. initializing a TFBertForSequenceClassification model from a BertForPreTraining model).\n",
            "- This IS NOT expected if you are initializing TFBertModel from a PyTorch model that you expect to be exactly identical (e.g. initializing a TFBertForSequenceClassification model from a BertForSequenceClassification model).\n",
            "All the weights of TFBertModel were initialized from the PyTorch model.\n",
            "If your task is similar to the task the model of the checkpoint was trained on, you can already use TFBertModel for predictions without further training.\n",
            "WARNING:tensorflow:Layer lstm will not use cuDNN kernels since it doesn't meet the criteria. It will use a generic GPU kernel as fallback when running on GPU.\n",
            "WARNING:tensorflow:Layer lstm will not use cuDNN kernels since it doesn't meet the criteria. It will use a generic GPU kernel as fallback when running on GPU.\n",
            "WARNING:tensorflow:Layer lstm will not use cuDNN kernels since it doesn't meet the criteria. It will use a generic GPU kernel as fallback when running on GPU.\n",
            "WARNING:tensorflow:Layer lstm_1 will not use cuDNN kernels since it doesn't meet the criteria. It will use a generic GPU kernel as fallback when running on GPU.\n",
            "WARNING:tensorflow:Layer lstm_1 will not use cuDNN kernels since it doesn't meet the criteria. It will use a generic GPU kernel as fallback when running on GPU.\n",
            "WARNING:tensorflow:Layer lstm_1 will not use cuDNN kernels since it doesn't meet the criteria. It will use a generic GPU kernel as fallback when running on GPU.\n",
            "WARNING:tensorflow:Layer lstm_2 will not use cuDNN kernels since it doesn't meet the criteria. It will use a generic GPU kernel as fallback when running on GPU.\n",
            "WARNING:tensorflow:Layer lstm_2 will not use cuDNN kernels since it doesn't meet the criteria. It will use a generic GPU kernel as fallback when running on GPU.\n",
            "WARNING:tensorflow:Layer lstm_2 will not use cuDNN kernels since it doesn't meet the criteria. It will use a generic GPU kernel as fallback when running on GPU.\n"
          ]
        },
        {
          "name": "stdout",
          "output_type": "stream",
          "text": [
            "Epoch 1/10\n",
            "40/40 [==============================] - 37s 722ms/step - loss: 0.5776 - accuracy: 0.7058 - val_loss: 0.5301 - val_accuracy: 0.6500\n",
            "Epoch 2/10\n",
            "40/40 [==============================] - 28s 703ms/step - loss: 0.4713 - accuracy: 0.7559 - val_loss: 0.3085 - val_accuracy: 0.8562\n",
            "Epoch 3/10\n",
            "40/40 [==============================] - 29s 727ms/step - loss: 0.3569 - accuracy: 0.8310 - val_loss: 0.3636 - val_accuracy: 0.8375\n",
            "Epoch 4/10\n",
            "40/40 [==============================] - 28s 710ms/step - loss: 0.3299 - accuracy: 0.8685 - val_loss: 0.3012 - val_accuracy: 0.8750\n",
            "Epoch 5/10\n",
            "40/40 [==============================] - 28s 701ms/step - loss: 0.2575 - accuracy: 0.9045 - val_loss: 0.3768 - val_accuracy: 0.8500\n",
            "Epoch 6/10\n",
            "40/40 [==============================] - 28s 692ms/step - loss: 0.1846 - accuracy: 0.9390 - val_loss: 0.3213 - val_accuracy: 0.8813\n",
            "Epoch 7/10\n",
            "40/40 [==============================] - 28s 689ms/step - loss: 0.1541 - accuracy: 0.9468 - val_loss: 0.3479 - val_accuracy: 0.8500\n",
            "Epoch 8/10\n",
            "40/40 [==============================] - 30s 752ms/step - loss: 0.0961 - accuracy: 0.9703 - val_loss: 0.4506 - val_accuracy: 0.8250\n",
            "Epoch 9/10\n",
            "40/40 [==============================] - 29s 716ms/step - loss: 0.1056 - accuracy: 0.9640 - val_loss: 0.3683 - val_accuracy: 0.8750\n",
            "Epoch 10/10\n",
            "40/40 [==============================] - 28s 705ms/step - loss: 0.0670 - accuracy: 0.9797 - val_loss: 0.6404 - val_accuracy: 0.7875\n"
          ]
        }
      ],
      "source": [
        "import pandas as pd\n",
        "import numpy as np\n",
        "import re\n",
        "import string\n",
        "import tensorflow as tf\n",
        "from transformers import BertTokenizer, TFBertModel\n",
        "from tensorflow.keras.layers import Input, Bidirectional, LSTM, Dense, Dropout\n",
        "from tensorflow.keras.models import Model\n",
        "from sklearn.model_selection import train_test_split\n",
        "from sklearn.metrics import accuracy_score\n",
        "\n",
        "# Load hate speech data from CSV\n",
        "data = pd.read_csv(\"final_dataset.csv\")\n",
        "\n",
        "# Data Preprocessing\n",
        "def clean_text(text):\n",
        "    # Remove mentions, hashtags, URLs, and special characters\n",
        "    text = re.sub(r\"@[A-Za-z0-9]+\", \"\", text)  # Remove mentions\n",
        "    text = re.sub(r\"#\", \"\", text)  # Remove hashtags\n",
        "    text = re.sub(r\"http\\S+\", \"\", text)  # Remove URLs\n",
        "    text = re.sub(r\"[^a-zA-Z\\s]\", \"\", text)  # Remove special characters except spaces and letters\n",
        "    # Convert text to lowercase\n",
        "    text = text.lower()\n",
        "    # Remove extra whitespace\n",
        "    text = re.sub(r\"\\s+\", \" \", text).strip()\n",
        "    return text\n",
        "\n",
        "data['clean_comment'] = data['comment'].apply(clean_text)\n",
        "\n",
        "# Splitting the dataset into training and testing sets\n",
        "X = data['clean_comment']\n",
        "y = data['isHate']\n",
        "X_train, X_test, y_train, y_test = train_test_split(X, y, test_size=0.2, random_state=42)\n",
        "\n",
        "# Initialize BERT tokenizer and model\n",
        "tokenizer = BertTokenizer.from_pretrained('bert-base-uncased')\n",
        "bert_model = TFBertModel.from_pretrained('bert-base-uncased')\n",
        "\n",
        "# Tokenize and encode text data using BERT tokenizer\n",
        "max_length = 128  # Adjust according to your dataset and computational resources\n",
        "X_train_encoded = tokenizer(X_train.tolist(), truncation=True, padding='max_length', max_length=max_length, return_tensors='tf')\n",
        "X_test_encoded = tokenizer(X_test.tolist(), truncation=True, padding='max_length', max_length=max_length, return_tensors='tf')\n",
        "\n",
        "# Extract BERT embeddings for training and testing data\n",
        "X_train_bert_output = bert_model(X_train_encoded)\n",
        "X_test_bert_output = bert_model(X_test_encoded)\n",
        "\n",
        "# Extract BERT embeddings (CLS token) as features\n",
        "X_train_features = X_train_bert_output.last_hidden_state\n",
        "X_test_features = X_test_bert_output.last_hidden_state\n",
        "\n",
        "# Define BiLSTM model with multiple layers\n",
        "input_layer = Input(shape=(max_length, 768))  # Assuming BERT-base embedding size is 768\n",
        "bilstm_layer_1 = Bidirectional(LSTM(units=128, return_sequences=True))(input_layer)\n",
        "dropout_layer_1 = Dropout(0.3)(bilstm_layer_1)\n",
        "bilstm_layer_2 = Bidirectional(LSTM(units=64, return_sequences=True))(dropout_layer_1)\n",
        "dropout_layer_2 = Dropout(0.3)(bilstm_layer_2)\n",
        "bilstm_layer_3 = Bidirectional(LSTM(units=32, return_sequences=False))(dropout_layer_2)\n",
        "dropout_layer_3 = Dropout(0.3)(bilstm_layer_3)\n",
        "output_layer = Dense(1, activation='sigmoid')(dropout_layer_3)\n",
        "\n",
        "model = Model(inputs=input_layer, outputs=output_layer)\n",
        "model.compile(loss='binary_crossentropy', optimizer='adam', metrics=['accuracy'])\n",
        "\n",
        "# Train BiLSTM model\n",
        "history = model.fit(X_train_features, y_train, epochs=10, batch_size=16, validation_split=0.2)"
      ]
    },
    {
      "cell_type": "code",
      "execution_count": 2,
      "metadata": {
        "colab": {
          "base_uri": "https://localhost:8080/",
          "height": 637
        },
        "id": "cwLVkEK0ejEO",
        "outputId": "cd62dcdd-3f86-40c6-c15f-47a2a156af63"
      },
      "outputs": [
        {
          "name": "stdout",
          "output_type": "stream",
          "text": [
            "7/7 [==============================] - 1s 108ms/step - loss: 0.9401 - accuracy: 0.7300\n"
          ]
        },
        {
          "data": {
            "image/png": "[encoded data removed]",
            "text/plain": [
              "<Figure size 640x480 with 1 Axes>"
            ]
          },
          "metadata": {},
          "output_type": "display_data"
        },
        {
          "name": "stdout",
          "output_type": "stream",
          "text": [
            "7/7 [==============================] - 1s 101ms/step\n",
            "Training Accuracy: 0.9796556830406189\n",
            "Validation Accuracy: 0.7875000238418579\n",
            "Testing Accuracy: 0.7300000190734863\n",
            "Precision: 0.6754385964912281\n",
            "Recall: 0.8191489361702128\n",
            "F1 Score: 0.7403846153846153\n"
          ]
        }
      ],
      "source": [
        "from sklearn.metrics import accuracy_score, precision_score, recall_score, f1_score\n",
        "import matplotlib.pyplot as plt\n",
        "\n",
        "# Training and Validation Accuracy\n",
        "train_acc = history.history['accuracy']\n",
        "val_acc = history.history['val_accuracy']\n",
        "\n",
        "# Testing Accuracy\n",
        "test_accuracy = model.evaluate(X_test_features, y_test)[1]\n",
        "\n",
        "# Loss vs Accuracy Graph\n",
        "plt.plot(history.history['accuracy'], label='Training Accuracy')\n",
        "plt.plot(history.history['val_accuracy'], label='Validation Accuracy')\n",
        "plt.xlabel('Epoch')\n",
        "plt.ylabel('Accuracy')\n",
        "plt.title('Training and Validation Accuracy')\n",
        "plt.legend()\n",
        "plt.show()\n",
        "\n",
        "# Testing Metrics\n",
        "y_pred = model.predict(X_test_features)\n",
        "y_pred_binary = np.round(y_pred).astype(int)\n",
        "precision = precision_score(y_test, y_pred_binary)\n",
        "recall = recall_score(y_test, y_pred_binary)\n",
        "f1 = f1_score(y_test, y_pred_binary)\n",
        "\n",
        "print(\"Training Accuracy:\", train_acc[-1])\n",
        "print(\"Validation Accuracy:\", val_acc[-1])\n",
        "print(\"Testing Accuracy:\", test_accuracy)\n",
        "print(\"Precision:\", precision)\n",
        "print(\"Recall:\", recall)\n",
        "print(\"F1 Score:\", f1)"
      ]
    },
    {
      "cell_type": "code",
      "execution_count": 3,
      "metadata": {
        "colab": {
          "base_uri": "https://localhost:8080/"
        },
        "id": "l-A4vqje1Cym",
        "outputId": "4120f68e-7b9b-4075-b209-5b55b0711125"
      },
      "outputs": [
        {
          "name": "stderr",
          "output_type": "stream",
          "text": [
            "/usr/local/lib/python3.10/dist-packages/keras/src/initializers/__init__.py:144: UserWarning: The `keras.initializers.serialize()` API should only be used for objects of type `keras.initializers.Initializer`. Found an instance of type <class 'tf_keras.src.initializers.initializers.GlorotUniform'>, which may lead to improper serialization.\n",
            "  warnings.warn(\n",
            "/usr/local/lib/python3.10/dist-packages/keras/src/initializers/__init__.py:144: UserWarning: The `keras.initializers.serialize()` API should only be used for objects of type `keras.initializers.Initializer`. Found an instance of type <class 'tf_keras.src.initializers.initializers.Orthogonal'>, which may lead to improper serialization.\n",
            "  warnings.warn(\n",
            "/usr/local/lib/python3.10/dist-packages/keras/src/initializers/__init__.py:144: UserWarning: The `keras.initializers.serialize()` API should only be used for objects of type `keras.initializers.Initializer`. Found an instance of type <class 'tf_keras.src.initializers.initializers.Zeros'>, which may lead to improper serialization.\n",
            "  warnings.warn(\n"
          ]
        }
      ],
      "source": [
        " # Save the trained model\n",
        "model.save(\"bilstm_model\")"
      ]
    },
    {
      "cell_type": "code",
      "execution_count": 7,
      "metadata": {
        "colab": {
          "base_uri": "https://localhost:8080/"
        },
        "id": "xU9bBco11Yqe",
        "outputId": "70b4e66e-0602-4d83-c109-660ce8887b7c"
      },
      "outputs": [
        {
          "name": "stdout",
          "output_type": "stream",
          "text": [
            "1/1 [==============================] - 2s 2s/step\n",
            "Prediction: Hate\n",
            "Accuracy: 0.9468438\n"
          ]
        }
      ],
      "source": [
        "from tensorflow.keras.models import load_model\n",
        "\n",
        "# Load the saved model\n",
        "model = load_model(\"bilstm_model\")\n",
        "\n",
        "# Perform single prediction\n",
        "text = \"@JMC2488 @jetsgreen @TB12FAN and fuck you too ya little bitch you look like a Mexican sucking a cock in ur profile\"\n",
        "text_encoded = tokenizer(text, truncation=True, padding='max_length', max_length=max_length, return_tensors='tf')\n",
        "bert_output = bert_model(text_encoded)\n",
        "features = bert_output.last_hidden_state\n",
        "features_reshaped = tf.reshape(features, (-1, max_length, 768))\n",
        "predictions = model.predict(features_reshaped)\n",
        "\n",
        "# Interpret the predictions\n",
        "prediction_class = \"Hate\" if predictions[0][0] > 0.5 else \"Not Hate\"\n",
        "accuracy = predictions[0][0] if prediction_class == \"Hate\" else 1 - predictions[0][0]\n",
        "print(\"Prediction:\", prediction_class)\n",
        "print(\"Accuracy:\", accuracy)"
      ]
    },
    {
      "cell_type": "code",
      "execution_count": 9,
      "metadata": {
        "colab": {
          "base_uri": "https://localhost:8080/"
        },
        "id": "9epMIIVa2zBH",
        "outputId": "1fbfa40c-85cb-4826-e168-644aecefe5ae"
      },
      "outputs": [
        {
          "name": "stderr",
          "output_type": "stream",
          "text": [
            "WARNING:tensorflow:5 out of the last 11 calls to <function Model.make_predict_function.<locals>.predict_function at 0x782ac02a9b40> triggered tf.function retracing. Tracing is expensive and the excessive number of tracings could be due to (1) creating @tf.function repeatedly in a loop, (2) passing tensors with different shapes, (3) passing Python objects instead of tensors. For (1), please define your @tf.function outside of the loop. For (2), @tf.function has reduce_retracing=True option that can avoid unnecessary retracing. For (3), please refer to https://www.tensorflow.org/guide/function#controlling_retracing and https://www.tensorflow.org/api_docs/python/tf/function for  more details.\n"
          ]
        },
        {
          "name": "stdout",
          "output_type": "stream",
          "text": [
            "1/1 [==============================] - 2s 2s/step\n",
            "Prediction: Not Hate\n",
            "Accuracy: 0.9847772344946861\n"
          ]
        }
      ],
      "source": [
        "from tensorflow.keras.models import load_model\n",
        "\n",
        "# Load the saved model\n",
        "model = load_model(\"bilstm_model\")\n",
        "\n",
        "# Perform single prediction\n",
        "text = \"@X_XPDOTJDOT: Damn near gotta protect my tweets.. stalkers being annoying you got that dope dick. Drive these bitches loco\"\n",
        "text_encoded = tokenizer(text, truncation=True, padding='max_length', max_length=max_length, return_tensors='tf')\n",
        "bert_output = bert_model(text_encoded)\n",
        "features = bert_output.last_hidden_state\n",
        "features_reshaped = tf.reshape(features, (-1, max_length, 768))\n",
        "predictions = model.predict(features_reshaped)\n",
        "\n",
        "# Interpret the predictions\n",
        "prediction_class = \"Hate\" if predictions[0][0] > 0.5 else \"Not Hate\"\n",
        "accuracy = predictions[0][0] if prediction_class == \"Hate\" else 1 - predictions[0][0]\n",
        "print(\"Prediction:\", prediction_class)\n",
        "print(\"Accuracy:\", accuracy)"
      ]
    },
    {
      "cell_type": "markdown",
      "metadata": {
        "id": "a3FwORj-0a9g"
      },
      "source": [
        "# Bert with CNN"
      ]
    },
    {
      "cell_type": "code",
      "execution_count": 1,
      "metadata": {
        "colab": {
          "base_uri": "https://localhost:8080/"
        },
        "id": "uh3eL3Of0cw8",
        "outputId": "07baa1ab-9155-4d81-b8db-cc07502b510d"
      },
      "outputs": [
        {
          "name": "stderr",
          "output_type": "stream",
          "text": [
            "/usr/local/lib/python3.10/dist-packages/huggingface_hub/utils/_token.py:88: UserWarning: \n",
            "The secret `HF_TOKEN` does not exist in your Colab secrets.\n",
            "To authenticate with the Hugging Face Hub, create a token in your settings tab (https://huggingface.co/settings/tokens), set it as secret in your Google Colab and restart your session.\n",
            "You will be able to reuse this secret in all of your notebooks.\n",
            "Please note that authentication is recommended but still optional to access public models or datasets.\n",
            "  warnings.warn(\n",
            "Some weights of the PyTorch model were not used when initializing the TF 2.0 model TFBertModel: ['cls.predictions.bias', 'cls.seq_relationship.weight', 'cls.seq_relationship.bias', 'cls.predictions.transform.dense.bias', 'cls.predictions.transform.dense.weight', 'cls.predictions.transform.LayerNorm.weight', 'cls.predictions.transform.LayerNorm.bias']\n",
            "- This IS expected if you are initializing TFBertModel from a PyTorch model trained on another task or with another architecture (e.g. initializing a TFBertForSequenceClassification model from a BertForPreTraining model).\n",
            "- This IS NOT expected if you are initializing TFBertModel from a PyTorch model that you expect to be exactly identical (e.g. initializing a TFBertForSequenceClassification model from a BertForSequenceClassification model).\n",
            "All the weights of TFBertModel were initialized from the PyTorch model.\n",
            "If your task is similar to the task the model of the checkpoint was trained on, you can already use TFBertModel for predictions without further training.\n"
          ]
        },
        {
          "name": "stdout",
          "output_type": "stream",
          "text": [
            "Epoch 1/10\n",
            "40/40 [==============================] - 2s 27ms/step - loss: 0.6791 - accuracy: 0.5681 - val_loss: 0.4934 - val_accuracy: 0.7750\n",
            "Epoch 2/10\n",
            "40/40 [==============================] - 1s 21ms/step - loss: 0.4996 - accuracy: 0.7559 - val_loss: 0.5159 - val_accuracy: 0.7312\n",
            "Epoch 3/10\n",
            "40/40 [==============================] - 1s 21ms/step - loss: 0.4427 - accuracy: 0.8075 - val_loss: 0.3206 - val_accuracy: 0.8750\n",
            "Epoch 4/10\n",
            "40/40 [==============================] - 1s 22ms/step - loss: 0.3510 - accuracy: 0.8670 - val_loss: 0.2722 - val_accuracy: 0.8938\n",
            "Epoch 5/10\n",
            "40/40 [==============================] - 1s 23ms/step - loss: 0.3353 - accuracy: 0.8607 - val_loss: 0.4266 - val_accuracy: 0.8250\n",
            "Epoch 6/10\n",
            "40/40 [==============================] - 1s 23ms/step - loss: 0.2556 - accuracy: 0.9030 - val_loss: 0.2725 - val_accuracy: 0.8938\n",
            "Epoch 7/10\n",
            "40/40 [==============================] - 1s 21ms/step - loss: 0.2220 - accuracy: 0.9171 - val_loss: 0.2651 - val_accuracy: 0.8813\n",
            "Epoch 8/10\n",
            "40/40 [==============================] - 1s 22ms/step - loss: 0.1831 - accuracy: 0.9311 - val_loss: 0.2846 - val_accuracy: 0.8938\n",
            "Epoch 9/10\n",
            "40/40 [==============================] - 1s 21ms/step - loss: 0.1292 - accuracy: 0.9546 - val_loss: 0.2894 - val_accuracy: 0.8750\n",
            "Epoch 10/10\n",
            "40/40 [==============================] - 1s 21ms/step - loss: 0.1382 - accuracy: 0.9421 - val_loss: 0.4648 - val_accuracy: 0.8438\n"
          ]
        }
      ],
      "source": [
        "import pandas as pd\n",
        "import numpy as np\n",
        "import re\n",
        "import string\n",
        "import tensorflow as tf\n",
        "from transformers import BertTokenizer, TFBertModel\n",
        "from tensorflow.keras.layers import Input, Conv1D, GlobalMaxPooling1D, Dense, Dropout\n",
        "from tensorflow.keras.models import Model\n",
        "from sklearn.model_selection import train_test_split\n",
        "from sklearn.metrics import accuracy_score\n",
        "\n",
        "# Load hate speech data from CSV\n",
        "data = pd.read_csv(\"final_dataset.csv\")\n",
        "\n",
        "# Data Preprocessing\n",
        "def clean_text(text):\n",
        "    # Remove mentions, hashtags, URLs, and special characters\n",
        "    text = re.sub(r\"@[A-Za-z0-9]+\", \"\", text)  # Remove mentions\n",
        "    text = re.sub(r\"#\", \"\", text)  # Remove hashtags\n",
        "    text = re.sub(r\"http\\S+\", \"\", text)  # Remove URLs\n",
        "    text = re.sub(r\"[^a-zA-Z\\s]\", \"\", text)  # Remove special characters except spaces and letters\n",
        "    # Convert text to lowercase\n",
        "    text = text.lower()\n",
        "    # Remove extra whitespace\n",
        "    text = re.sub(r\"\\s+\", \" \", text).strip()\n",
        "    return text\n",
        "\n",
        "data['clean_comment'] = data['comment'].apply(clean_text)\n",
        "\n",
        "# Splitting the dataset into training and testing sets\n",
        "X = data['clean_comment']\n",
        "y = data['isHate']\n",
        "X_train, X_test, y_train, y_test = train_test_split(X, y, test_size=0.2, random_state=42)\n",
        "\n",
        "# Initialize BERT tokenizer and model\n",
        "tokenizer = BertTokenizer.from_pretrained('bert-base-uncased')\n",
        "bert_model = TFBertModel.from_pretrained('bert-base-uncased')\n",
        "\n",
        "# Tokenize and encode text data using BERT tokenizer\n",
        "max_length = 128  # Adjust according to your dataset and computational resources\n",
        "X_train_encoded = tokenizer(X_train.tolist(), truncation=True, padding='max_length', max_length=max_length, return_tensors='tf')\n",
        "X_test_encoded = tokenizer(X_test.tolist(), truncation=True, padding='max_length', max_length=max_length, return_tensors='tf')\n",
        "\n",
        "# Extract BERT embeddings for training and testing data\n",
        "X_train_bert_output = bert_model(X_train_encoded)\n",
        "X_test_bert_output = bert_model(X_test_encoded)\n",
        "\n",
        "# Extract BERT embeddings (CLS token) as features\n",
        "X_train_features = X_train_bert_output.last_hidden_state\n",
        "X_test_features = X_test_bert_output.last_hidden_state\n",
        "\n",
        "# Reshape BERT embeddings for CNN\n",
        "X_train_cnn = tf.reshape(X_train_features, (-1, max_length, 768))\n",
        "X_test_cnn = tf.reshape(X_test_features, (-1, max_length, 768))\n",
        "\n",
        "# Define CNN model with more convolutional layers\n",
        "input_layer = Input(shape=(max_length, 768))  # Assuming BERT-base embedding size is 768\n",
        "conv1d_layer_1 = Conv1D(filters=128, kernel_size=3, activation='relu')(input_layer)\n",
        "conv1d_layer_2 = Conv1D(filters=64, kernel_size=3, activation='relu')(conv1d_layer_1)\n",
        "conv1d_layer_3 = Conv1D(filters=32, kernel_size=3, activation='relu')(conv1d_layer_2)\n",
        "pooling_layer_1 = GlobalMaxPooling1D()(conv1d_layer_3)\n",
        "dropout_layer_1 = Dropout(0.5)(pooling_layer_1)\n",
        "output_layer = Dense(1, activation='sigmoid')(dropout_layer_1)\n",
        "\n",
        "model = Model(inputs=input_layer, outputs=output_layer)\n",
        "model.compile(loss='binary_crossentropy', optimizer='adam', metrics=['accuracy'])\n",
        "\n",
        "# Train CNN model\n",
        "history = model.fit(X_train_cnn, y_train, epochs=10, batch_size=16, validation_split=0.2)\n"
      ]
    },
    {
      "cell_type": "code",
      "execution_count": 2,
      "metadata": {
        "colab": {
          "base_uri": "https://localhost:8080/",
          "height": 637
        },
        "id": "6xxF6KII3JoE",
        "outputId": "fc9b19b3-9cd1-4e4a-e84b-5c89db100c7f"
      },
      "outputs": [
        {
          "name": "stdout",
          "output_type": "stream",
          "text": [
            "7/7 [==============================] - 0s 11ms/step - loss: 0.7209 - accuracy: 0.7800\n"
          ]
        },
        {
          "data": {
            "image/png": "[encoded data removed]",
            "text/plain": [
              "<Figure size 640x480 with 1 Axes>"
            ]
          },
          "metadata": {},
          "output_type": "display_data"
        },
        {
          "name": "stdout",
          "output_type": "stream",
          "text": [
            "7/7 [==============================] - 0s 13ms/step\n",
            "Training Accuracy: 0.942097008228302\n",
            "Validation Accuracy: 0.84375\n",
            "Testing Accuracy: 0.7799999713897705\n",
            "Precision: 0.9166666666666666\n",
            "Recall: 0.5851063829787234\n",
            "F1 Score: 0.7142857142857143\n"
          ]
        }
      ],
      "source": [
        "from sklearn.metrics import accuracy_score, precision_score, recall_score, f1_score\n",
        "import matplotlib.pyplot as plt\n",
        "\n",
        "# Training and Validation Accuracy\n",
        "train_acc = history.history['accuracy']\n",
        "val_acc = history.history['val_accuracy']\n",
        "\n",
        "# Testing Accuracy\n",
        "test_accuracy = model.evaluate(X_test_features, y_test)[1]\n",
        "\n",
        "# Loss vs Accuracy Graph\n",
        "plt.plot(history.history['accuracy'], label='Training Accuracy')\n",
        "plt.plot(history.history['val_accuracy'], label='Validation Accuracy')\n",
        "plt.xlabel('Epoch')\n",
        "plt.ylabel('Accuracy')\n",
        "plt.title('Training and Validation Accuracy')\n",
        "plt.legend()\n",
        "plt.show()\n",
        "\n",
        "# Testing Metrics\n",
        "y_pred = model.predict(X_test_features)\n",
        "y_pred_binary = np.round(y_pred).astype(int)\n",
        "precision = precision_score(y_test, y_pred_binary)\n",
        "recall = recall_score(y_test, y_pred_binary)\n",
        "f1 = f1_score(y_test, y_pred_binary)\n",
        "\n",
        "print(\"Training Accuracy:\", train_acc[-1])\n",
        "print(\"Validation Accuracy:\", val_acc[-1])\n",
        "print(\"Testing Accuracy:\", test_accuracy)\n",
        "print(\"Precision:\", precision)\n",
        "print(\"Recall:\", recall)\n",
        "print(\"F1 Score:\", f1)"
      ]
    },
    {
      "cell_type": "code",
      "execution_count": 1,
      "metadata": {
        "colab": {
          "base_uri": "https://localhost:8080/",
          "height": 1000
        },
        "id": "9HlYhJBOBUO4",
        "outputId": "8b169bcb-e2ea-42eb-ac20-959df65bf769"
      },
      "outputs": [
        {
          "name": "stdout",
          "output_type": "stream",
          "text": [
            "Collecting tensorflow==2.12.0\n",
            "  Downloading tensorflow-2.12.0-cp310-cp310-manylinux_2_17_x86_64.manylinux2014_x86_64.whl (585.9 MB)\n",
            "\u001b[2K     \u001b[90m━━━━━━━━━━━━━━━━━━━━━━━━━━━━━━━━━━━━━━━━\u001b[0m \u001b[32m585.9/585.9 MB\u001b[0m \u001b[31m2.6 MB/s\u001b[0m eta \u001b[36m0:00:00\u001b[0m\n",
            "\u001b[?25hRequirement already satisfied: absl-py>=1.0.0 in /usr/local/lib/python3.10/dist-packages (from tensorflow==2.12.0) (1.4.0)\n",
            "Requirement already satisfied: astunparse>=1.6.0 in /usr/local/lib/python3.10/dist-packages (from tensorflow==2.12.0) (1.6.3)\n",
            "Requirement already satisfied: flatbuffers>=2.0 in /usr/local/lib/python3.10/dist-packages (from tensorflow==2.12.0) (24.3.7)\n",
            "Collecting gast<=0.4.0,>=0.2.1 (from tensorflow==2.12.0)\n",
            "  Downloading gast-0.4.0-py3-none-any.whl (9.8 kB)\n",
            "Requirement already satisfied: google-pasta>=0.1.1 in /usr/local/lib/python3.10/dist-packages (from tensorflow==2.12.0) (0.2.0)\n",
            "Requirement already satisfied: grpcio<2.0,>=1.24.3 in /usr/local/lib/python3.10/dist-packages (from tensorflow==2.12.0) (1.62.1)\n",
            "Requirement already satisfied: h5py>=2.9.0 in /usr/local/lib/python3.10/dist-packages (from tensorflow==2.12.0) (3.9.0)\n",
            "Requirement already satisfied: jax>=0.3.15 in /usr/local/lib/python3.10/dist-packages (from tensorflow==2.12.0) (0.4.23)\n",
            "Requirement already satisfied: keras<2.13,>=2.12.0 in /usr/local/lib/python3.10/dist-packages (from tensorflow==2.12.0) (2.12.0)\n",
            "Requirement already satisfied: libclang>=13.0.0 in /usr/local/lib/python3.10/dist-packages (from tensorflow==2.12.0) (16.0.6)\n",
            "Collecting numpy<1.24,>=1.22 (from tensorflow==2.12.0)\n",
            "  Downloading numpy-1.23.5-cp310-cp310-manylinux_2_17_x86_64.manylinux2014_x86_64.whl (17.1 MB)\n",
            "\u001b[2K     \u001b[90m━━━━━━━━━━━━━━━━━━━━━━━━━━━━━━━━━━━━━━━━\u001b[0m \u001b[32m17.1/17.1 MB\u001b[0m \u001b[31m78.9 MB/s\u001b[0m eta \u001b[36m0:00:00\u001b[0m\n",
            "\u001b[?25hRequirement already satisfied: opt-einsum>=2.3.2 in /usr/local/lib/python3.10/dist-packages (from tensorflow==2.12.0) (3.3.0)\n",
            "Requirement already satisfied: packaging in /usr/local/lib/python3.10/dist-packages (from tensorflow==2.12.0) (24.0)\n",
            "Requirement already satisfied: protobuf!=4.21.0,!=4.21.1,!=4.21.2,!=4.21.3,!=4.21.4,!=4.21.5,<5.0.0dev,>=3.20.3 in /usr/local/lib/python3.10/dist-packages (from tensorflow==2.12.0) (3.20.3)\n",
            "Requirement already satisfied: setuptools in /usr/local/lib/python3.10/dist-packages (from tensorflow==2.12.0) (67.7.2)\n",
            "Requirement already satisfied: six>=1.12.0 in /usr/local/lib/python3.10/dist-packages (from tensorflow==2.12.0) (1.16.0)\n",
            "Collecting tensorboard<2.13,>=2.12 (from tensorflow==2.12.0)\n",
            "  Downloading tensorboard-2.12.3-py3-none-any.whl (5.6 MB)\n",
            "\u001b[2K     \u001b[90m━━━━━━━━━━━━━━━━━━━━━━━━━━━━━━━━━━━━━━━━\u001b[0m \u001b[32m5.6/5.6 MB\u001b[0m \u001b[31m89.4 MB/s\u001b[0m eta \u001b[36m0:00:00\u001b[0m\n",
            "\u001b[?25hCollecting tensorflow-estimator<2.13,>=2.12.0 (from tensorflow==2.12.0)\n",
            "  Downloading tensorflow_estimator-2.12.0-py2.py3-none-any.whl (440 kB)\n",
            "\u001b[2K     \u001b[90m━━━━━━━━━━━━━━━━━━━━━━━━━━━━━━━━━━━━━━━━\u001b[0m \u001b[32m440.7/440.7 kB\u001b[0m \u001b[31m42.7 MB/s\u001b[0m eta \u001b[36m0:00:00\u001b[0m\n",
            "\u001b[?25hRequirement already satisfied: termcolor>=1.1.0 in /usr/local/lib/python3.10/dist-packages (from tensorflow==2.12.0) (2.4.0)\n",
            "Requirement already satisfied: typing-extensions>=3.6.6 in /usr/local/lib/python3.10/dist-packages (from tensorflow==2.12.0) (4.10.0)\n",
            "Requirement already satisfied: wrapt<1.15,>=1.11.0 in /usr/local/lib/python3.10/dist-packages (from tensorflow==2.12.0) (1.14.1)\n",
            "Requirement already satisfied: tensorflow-io-gcs-filesystem>=0.23.1 in /usr/local/lib/python3.10/dist-packages (from tensorflow==2.12.0) (0.36.0)\n",
            "Requirement already satisfied: wheel<1.0,>=0.23.0 in /usr/local/lib/python3.10/dist-packages (from astunparse>=1.6.0->tensorflow==2.12.0) (0.43.0)\n",
            "Requirement already satisfied: ml-dtypes>=0.2.0 in /usr/local/lib/python3.10/dist-packages (from jax>=0.3.15->tensorflow==2.12.0) (0.2.0)\n",
            "Requirement already satisfied: scipy>=1.9 in /usr/local/lib/python3.10/dist-packages (from jax>=0.3.15->tensorflow==2.12.0) (1.11.4)\n",
            "Requirement already satisfied: google-auth<3,>=1.6.3 in /usr/local/lib/python3.10/dist-packages (from tensorboard<2.13,>=2.12->tensorflow==2.12.0) (2.27.0)\n",
            "Collecting google-auth-oauthlib<1.1,>=0.5 (from tensorboard<2.13,>=2.12->tensorflow==2.12.0)\n",
            "  Downloading google_auth_oauthlib-1.0.0-py2.py3-none-any.whl (18 kB)\n",
            "Requirement already satisfied: markdown>=2.6.8 in /usr/local/lib/python3.10/dist-packages (from tensorboard<2.13,>=2.12->tensorflow==2.12.0) (3.6)\n",
            "Requirement already satisfied: requests<3,>=2.21.0 in /usr/local/lib/python3.10/dist-packages (from tensorboard<2.13,>=2.12->tensorflow==2.12.0) (2.31.0)\n",
            "Requirement already satisfied: tensorboard-data-server<0.8.0,>=0.7.0 in /usr/local/lib/python3.10/dist-packages (from tensorboard<2.13,>=2.12->tensorflow==2.12.0) (0.7.2)\n",
            "Requirement already satisfied: werkzeug>=1.0.1 in /usr/local/lib/python3.10/dist-packages (from tensorboard<2.13,>=2.12->tensorflow==2.12.0) (3.0.1)\n",
            "Requirement already satisfied: cachetools<6.0,>=2.0.0 in /usr/local/lib/python3.10/dist-packages (from google-auth<3,>=1.6.3->tensorboard<2.13,>=2.12->tensorflow==2.12.0) (5.3.3)\n",
            "Requirement already satisfied: pyasn1-modules>=0.2.1 in /usr/local/lib/python3.10/dist-packages (from google-auth<3,>=1.6.3->tensorboard<2.13,>=2.12->tensorflow==2.12.0) (0.3.0)\n",
            "Requirement already satisfied: rsa<5,>=3.1.4 in /usr/local/lib/python3.10/dist-packages (from google-auth<3,>=1.6.3->tensorboard<2.13,>=2.12->tensorflow==2.12.0) (4.9)\n",
            "Requirement already satisfied: requests-oauthlib>=0.7.0 in /usr/local/lib/python3.10/dist-packages (from google-auth-oauthlib<1.1,>=0.5->tensorboard<2.13,>=2.12->tensorflow==2.12.0) (1.4.0)\n",
            "Requirement already satisfied: charset-normalizer<4,>=2 in /usr/local/lib/python3.10/dist-packages (from requests<3,>=2.21.0->tensorboard<2.13,>=2.12->tensorflow==2.12.0) (3.3.2)\n",
            "Requirement already satisfied: idna<4,>=2.5 in /usr/local/lib/python3.10/dist-packages (from requests<3,>=2.21.0->tensorboard<2.13,>=2.12->tensorflow==2.12.0) (3.6)\n",
            "Requirement already satisfied: urllib3<3,>=1.21.1 in /usr/local/lib/python3.10/dist-packages (from requests<3,>=2.21.0->tensorboard<2.13,>=2.12->tensorflow==2.12.0) (2.0.7)\n",
            "Requirement already satisfied: certifi>=2017.4.17 in /usr/local/lib/python3.10/dist-packages (from requests<3,>=2.21.0->tensorboard<2.13,>=2.12->tensorflow==2.12.0) (2024.2.2)\n",
            "Requirement already satisfied: MarkupSafe>=2.1.1 in /usr/local/lib/python3.10/dist-packages (from werkzeug>=1.0.1->tensorboard<2.13,>=2.12->tensorflow==2.12.0) (2.1.5)\n",
            "Requirement already satisfied: pyasn1<0.6.0,>=0.4.6 in /usr/local/lib/python3.10/dist-packages (from pyasn1-modules>=0.2.1->google-auth<3,>=1.6.3->tensorboard<2.13,>=2.12->tensorflow==2.12.0) (0.5.1)\n",
            "Requirement already satisfied: oauthlib>=3.0.0 in /usr/local/lib/python3.10/dist-packages (from requests-oauthlib>=0.7.0->google-auth-oauthlib<1.1,>=0.5->tensorboard<2.13,>=2.12->tensorflow==2.12.0) (3.2.2)\n",
            "Installing collected packages: tensorflow-estimator, numpy, gast, google-auth-oauthlib, tensorboard, tensorflow\n",
            "  Attempting uninstall: tensorflow-estimator\n",
            "    Found existing installation: tensorflow-estimator 2.15.0\n",
            "    Uninstalling tensorflow-estimator-2.15.0:\n",
            "      Successfully uninstalled tensorflow-estimator-2.15.0\n",
            "  Attempting uninstall: numpy\n",
            "    Found existing installation: numpy 1.25.2\n",
            "    Uninstalling numpy-1.25.2:\n",
            "      Successfully uninstalled numpy-1.25.2\n",
            "  Attempting uninstall: gast\n",
            "    Found existing installation: gast 0.5.4\n",
            "    Uninstalling gast-0.5.4:\n",
            "      Successfully uninstalled gast-0.5.4\n",
            "  Attempting uninstall: google-auth-oauthlib\n",
            "    Found existing installation: google-auth-oauthlib 1.2.0\n",
            "    Uninstalling google-auth-oauthlib-1.2.0:\n",
            "      Successfully uninstalled google-auth-oauthlib-1.2.0\n",
            "  Attempting uninstall: tensorboard\n",
            "    Found existing installation: tensorboard 2.15.2\n",
            "    Uninstalling tensorboard-2.15.2:\n",
            "      Successfully uninstalled tensorboard-2.15.2\n",
            "  Attempting uninstall: tensorflow\n",
            "    Found existing installation: tensorflow 2.15.0\n",
            "    Uninstalling tensorflow-2.15.0:\n",
            "      Successfully uninstalled tensorflow-2.15.0\n",
            "\u001b[31mERROR: pip's dependency resolver does not currently take into account all the packages that are installed. This behaviour is the source of the following dependency conflicts.\n",
            "chex 0.1.85 requires numpy>=1.24.1, but you have numpy 1.23.5 which is incompatible.\n",
            "tf-keras 2.15.1 requires tensorflow<2.16,>=2.15, but you have tensorflow 2.12.0 which is incompatible.\u001b[0m\u001b[31m\n",
            "\u001b[0mSuccessfully installed gast-0.4.0 google-auth-oauthlib-1.0.0 numpy-1.23.5 tensorboard-2.12.3 tensorflow-2.12.0 tensorflow-estimator-2.12.0\n"
          ]
        },
        {
          "data": {
            "application/vnd.colab-display-data+json": {
              "id": "d7aa1cc59de9475cba4df3e7e4f19e45",
              "pip_warning": {
                "packages": [
                  "numpy"
                ]
              }
            }
          },
          "metadata": {},
          "output_type": "display_data"
        }
      ],
      "source": [
        "!pip install tensorflow==2.12.0"
      ]
    },
    {
      "cell_type": "code",
      "execution_count": 12,
      "metadata": {
        "id": "cJLo_ftC3Jkv"
      },
      "outputs": [],
      "source": [
        " # Save the trained model\n",
        "model.save(\"cnn_model\")"
      ]
    },
    {
      "cell_type": "code",
      "execution_count": 13,
      "metadata": {
        "colab": {
          "base_uri": "https://localhost:8080/"
        },
        "id": "xgMOZXma2_b0",
        "outputId": "4795623d-3f56-4cc2-acba-034f3e48f362"
      },
      "outputs": [
        {
          "name": "stdout",
          "output_type": "stream",
          "text": [
            "1/1 [==============================] - 0s 188ms/step\n",
            "Prediction: Hate\n",
            "Accuracy: 0.9838252\n"
          ]
        }
      ],
      "source": [
        "from tensorflow.keras.models import load_model\n",
        "\n",
        "# Load the saved model\n",
        "model = load_model(\"cnn_model\")\n",
        "\n",
        "# Perform single prediction\n",
        "text = \"@JMC2488 @jetsgreen @TB12FAN and fuck you too ya little bitch you look like a Mexican sucking a cock in ur profile\"\n",
        "text_encoded = tokenizer(text, truncation=True, padding='max_length', max_length=max_length, return_tensors='tf')\n",
        "bert_output = bert_model(text_encoded)\n",
        "features = bert_output.last_hidden_state\n",
        "features_reshaped = tf.reshape(features, (-1, max_length, 768))\n",
        "predictions = model.predict(features_reshaped)\n",
        "\n",
        "# Interpret the predictions\n",
        "prediction_class = \"Hate\" if predictions[0][0] > 0.5 else \"Not Hate\"\n",
        "accuracy = predictions[0][0] if prediction_class == \"Hate\" else 1 - predictions[0][0]\n",
        "print(\"Prediction:\", prediction_class)\n",
        "print(\"Accuracy:\", accuracy)"
      ]
    },
    {
      "cell_type": "code",
      "execution_count": 51,
      "metadata": {
        "colab": {
          "base_uri": "https://localhost:8080/"
        },
        "id": "mBMsOeGA3TJ3",
        "outputId": "cc38cd40-3c90-4be7-cbf4-967355abac5a"
      },
      "outputs": [
        {
          "name": "stdout",
          "output_type": "stream",
          "text": [
            "1/1 [==============================] - 0s 88ms/step\n",
            "Prediction: Hate\n",
            "Accuracy: 0.7135716\n"
          ]
        }
      ],
      "source": [
        "from tensorflow.keras.models import load_model\n",
        "\n",
        "# Load the saved model\n",
        "model = load_model(\"cnn_model\")\n",
        "\n",
        "# Perform single prediction\n",
        "text = \"@X_XPDOTJDOT: Damn near gotta protect my tweets.. stalkers being annoying you got that dope dick. Drive these bitches loco\"\n",
        "text_encoded = tokenizer(text, truncation=True, padding='max_length', max_length=max_length, return_tensors='tf')\n",
        "bert_output = bert_model(text_encoded)\n",
        "features = bert_output.last_hidden_state\n",
        "features_reshaped = tf.reshape(features, (-1, max_length, 768))\n",
        "predictions = model.predict(features_reshaped)\n",
        "\n",
        "# Interpret the predictions\n",
        "prediction_class = \"Hate\" if predictions[0][0] > 0.5 else \"Not Hate\"\n",
        "accuracy = predictions[0][0] if prediction_class == \"Hate\" else 1 - predictions[0][0]\n",
        "print(\"Prediction:\", prediction_class)\n",
        "print(\"Accuracy:\", accuracy)"
      ]
    },
    {
      "cell_type": "markdown",
      "metadata": {
        "id": "MFihxTty4JDF"
      },
      "source": [
        "# Bert with RNN"
      ]
    },
    {
      "cell_type": "code",
      "execution_count": 30,
      "metadata": {
        "colab": {
          "base_uri": "https://localhost:8080/"
        },
        "id": "lmiWPDV34Ir9",
        "outputId": "77019a0d-9eb3-488d-a1f6-7aecb9979eb9"
      },
      "outputs": [
        {
          "name": "stderr",
          "output_type": "stream",
          "text": [
            "Some weights of the PyTorch model were not used when initializing the TF 2.0 model TFBertModel: ['cls.predictions.transform.dense.bias', 'cls.predictions.transform.LayerNorm.bias', 'cls.seq_relationship.bias', 'cls.predictions.transform.dense.weight', 'cls.seq_relationship.weight', 'cls.predictions.bias', 'cls.predictions.transform.LayerNorm.weight']\n",
            "- This IS expected if you are initializing TFBertModel from a PyTorch model trained on another task or with another architecture (e.g. initializing a TFBertForSequenceClassification model from a BertForPreTraining model).\n",
            "- This IS NOT expected if you are initializing TFBertModel from a PyTorch model that you expect to be exactly identical (e.g. initializing a TFBertForSequenceClassification model from a BertForSequenceClassification model).\n",
            "All the weights of TFBertModel were initialized from the PyTorch model.\n",
            "If your task is similar to the task the model of the checkpoint was trained on, you can already use TFBertModel for predictions without further training.\n"
          ]
        },
        {
          "name": "stdout",
          "output_type": "stream",
          "text": [
            "Epoch 1/10\n",
            "40/40 [==============================] - 14s 241ms/step - loss: 0.7386 - accuracy: 0.5618 - val_loss: 0.5761 - val_accuracy: 0.7312\n",
            "Epoch 2/10\n",
            "40/40 [==============================] - 9s 237ms/step - loss: 0.6813 - accuracy: 0.6416 - val_loss: 0.5179 - val_accuracy: 0.7437\n",
            "Epoch 3/10\n",
            "40/40 [==============================] - 9s 229ms/step - loss: 0.5849 - accuracy: 0.7136 - val_loss: 0.4111 - val_accuracy: 0.8062\n",
            "Epoch 4/10\n",
            "40/40 [==============================] - 9s 226ms/step - loss: 0.5615 - accuracy: 0.7496 - val_loss: 0.3900 - val_accuracy: 0.8250\n",
            "Epoch 5/10\n",
            "40/40 [==============================] - 9s 230ms/step - loss: 0.5260 - accuracy: 0.7512 - val_loss: 0.3940 - val_accuracy: 0.8375\n",
            "Epoch 6/10\n",
            "40/40 [==============================] - 9s 232ms/step - loss: 0.4279 - accuracy: 0.8091 - val_loss: 0.6231 - val_accuracy: 0.7312\n",
            "Epoch 7/10\n",
            "40/40 [==============================] - 9s 228ms/step - loss: 0.4270 - accuracy: 0.8028 - val_loss: 0.3971 - val_accuracy: 0.8313\n",
            "Epoch 8/10\n",
            "40/40 [==============================] - 9s 217ms/step - loss: 0.3857 - accuracy: 0.8592 - val_loss: 0.3930 - val_accuracy: 0.8062\n",
            "Epoch 9/10\n",
            "40/40 [==============================] - 9s 227ms/step - loss: 0.3450 - accuracy: 0.8638 - val_loss: 0.6239 - val_accuracy: 0.7125\n",
            "Epoch 10/10\n",
            "40/40 [==============================] - 9s 230ms/step - loss: 0.3467 - accuracy: 0.8466 - val_loss: 0.4457 - val_accuracy: 0.8250\n"
          ]
        }
      ],
      "source": [
        "import pandas as pd\n",
        "import numpy as np\n",
        "import re\n",
        "import string\n",
        "import tensorflow as tf\n",
        "from transformers import BertTokenizer, TFBertModel\n",
        "from tensorflow.keras.layers import Input, SimpleRNN, Dense, Dropout\n",
        "from tensorflow.keras.models import Model\n",
        "from sklearn.model_selection import train_test_split\n",
        "from sklearn.metrics import accuracy_score\n",
        "\n",
        "# Load hate speech data from CSV\n",
        "data = pd.read_csv(\"final_dataset.csv\")\n",
        "\n",
        "# Data Preprocessing\n",
        "def clean_text(text):\n",
        "    # Remove mentions, hashtags, URLs, and special characters\n",
        "    text = re.sub(r\"@[A-Za-z0-9]+\", \"\", text)  # Remove mentions\n",
        "    text = re.sub(r\"#\", \"\", text)  # Remove hashtags\n",
        "    text = re.sub(r\"http\\S+\", \"\", text)  # Remove URLs\n",
        "    text = re.sub(r\"[^a-zA-Z\\s]\", \"\", text)  # Remove special characters except spaces and letters\n",
        "    # Convert text to lowercase\n",
        "    text = text.lower()\n",
        "    # Remove extra whitespace\n",
        "    text = re.sub(r\"\\s+\", \" \", text).strip()\n",
        "    return text\n",
        "\n",
        "data['clean_comment'] = data['comment'].apply(clean_text)\n",
        "\n",
        "# Splitting the dataset into training and testing sets\n",
        "X = data['clean_comment']\n",
        "y = data['isHate']\n",
        "X_train, X_test, y_train, y_test = train_test_split(X, y, test_size=0.2, random_state=42)\n",
        "\n",
        "# Initialize BERT tokenizer and model\n",
        "tokenizer = BertTokenizer.from_pretrained('bert-base-uncased')\n",
        "bert_model = TFBertModel.from_pretrained('bert-base-uncased')\n",
        "\n",
        "# Tokenize and encode text data using BERT tokenizer\n",
        "max_length = 128  # Adjust according to your dataset and computational resources\n",
        "X_train_encoded = tokenizer(X_train.tolist(), truncation=True, padding='max_length', max_length=max_length, return_tensors='tf')\n",
        "X_test_encoded = tokenizer(X_test.tolist(), truncation=True, padding='max_length', max_length=max_length, return_tensors='tf')\n",
        "\n",
        "# Extract BERT embeddings for training and testing data\n",
        "X_train_bert_output = bert_model(X_train_encoded)\n",
        "X_test_bert_output = bert_model(X_test_encoded)\n",
        "\n",
        "# Extract BERT embeddings (CLS token) as features\n",
        "X_train_features = X_train_bert_output.last_hidden_state\n",
        "X_test_features = X_test_bert_output.last_hidden_state\n",
        "\n",
        "# Reshape BERT embeddings for RNN\n",
        "X_train_rnn = tf.reshape(X_train_features, (-1, max_length, 768))\n",
        "X_test_rnn = tf.reshape(X_test_features, (-1, max_length, 768))\n",
        "\n",
        "# Define RNN model with more recurrent layers\n",
        "input_layer = Input(shape=(max_length, 768))  # Assuming BERT-base embedding size is 768\n",
        "rnn_layer_1 = SimpleRNN(units=128, return_sequences=True)(input_layer)\n",
        "rnn_layer_2 = SimpleRNN(units=64, return_sequences=True)(rnn_layer_1)\n",
        "rnn_layer_3 = SimpleRNN(units=32)(rnn_layer_2)\n",
        "dropout_layer = Dropout(0.5)(rnn_layer_3)\n",
        "output_layer = Dense(1, activation='sigmoid')(dropout_layer)\n",
        "\n",
        "model = Model(inputs=input_layer, outputs=output_layer)\n",
        "model.compile(loss='binary_crossentropy', optimizer='adam', metrics=['accuracy'])\n",
        "\n",
        "# Train RNN model\n",
        "history = model.fit(X_train_rnn, y_train, epochs=10, batch_size=16, validation_split=0.2)"
      ]
    },
    {
      "cell_type": "code",
      "execution_count": 40,
      "metadata": {
        "colab": {
          "base_uri": "https://localhost:8080/",
          "height": 619
        },
        "id": "QdaKcAop8pm1",
        "outputId": "ff733076-b6bf-429c-b1ee-fbab689555aa"
      },
      "outputs": [
        {
          "name": "stdout",
          "output_type": "stream",
          "text": [
            "7/7 [==============================] - 0s 35ms/step - loss: 0.6233 - accuracy: 0.7700\n"
          ]
        },
        {
          "data": {
            "image/png": "[encoded data removed]",
            "text/plain": [
              "<Figure size 640x480 with 1 Axes>"
            ]
          },
          "metadata": {},
          "output_type": "display_data"
        },
        {
          "name": "stdout",
          "output_type": "stream",
          "text": [
            "Training Accuracy: 0.8466353416442871\n",
            "Validation Accuracy: 0.824999988079071\n",
            "Testing Accuracy: 0.7699999809265137\n",
            "Precision: 0.8157894736842105\n",
            "Recall: 0.6595744680851063\n",
            "F1 Score: 0.7294117647058823\n"
          ]
        }
      ],
      "source": [
        "from sklearn.metrics import accuracy_score, precision_score, recall_score, f1_score\n",
        "import matplotlib.pyplot as plt\n",
        "\n",
        "# Training and Validation Accuracy\n",
        "train_acc = history.history['accuracy']\n",
        "val_acc = history.history['val_accuracy']\n",
        "\n",
        "# Testing Accuracy\n",
        "test_accuracy = model.evaluate(X_test_rnn, y_test)[1]\n",
        "\n",
        "# Loss vs Accuracy Graph\n",
        "plt.plot(history.history['accuracy'], label='Training Accuracy')\n",
        "plt.plot(history.history['val_accuracy'], label='Validation Accuracy')\n",
        "plt.xlabel('Epoch')\n",
        "plt.ylabel('Accuracy')\n",
        "plt.title('Training and Validation Accuracy')\n",
        "plt.legend()\n",
        "plt.show()\n",
        "\n",
        "# Flatten y_pred_binary to remove the extra dimension\n",
        "y_pred_binary = y_pred_binary.flatten()\n",
        "\n",
        "# Ensure both arrays have the same shape\n",
        "assert y_test.shape == y_pred_binary.shape, \"Shapes of y_test and y_pred_binary do not match\"\n",
        "\n",
        "# Calculate metrics using y_test and y_pred_binary\n",
        "accuracy = accuracy_score(y_test, y_pred_binary)\n",
        "precision = precision_score(y_test, y_pred_binary)\n",
        "recall = recall_score(y_test, y_pred_binary)\n",
        "f1 = f1_score(y_test, y_pred_binary)\n",
        "\n",
        "print(\"Training Accuracy:\", train_acc[-1])\n",
        "print(\"Validation Accuracy:\", val_acc[-1])\n",
        "print(\"Testing Accuracy:\", test_accuracy)\n",
        "print(\"Precision:\", precision)\n",
        "print(\"Recall:\", recall)\n",
        "print(\"F1 Score:\", f1)"
      ]
    },
    {
      "cell_type": "code",
      "execution_count": 41,
      "metadata": {
        "id": "WL1R4heL4zSX"
      },
      "outputs": [],
      "source": [
        " # Save the trained model\n",
        "model.save(\"rnn_model\")"
      ]
    },
    {
      "cell_type": "code",
      "execution_count": 42,
      "metadata": {
        "colab": {
          "base_uri": "https://localhost:8080/"
        },
        "id": "aXIZDd2242-V",
        "outputId": "2132f822-e07b-4956-fc8c-cb7f519aa1e5"
      },
      "outputs": [
        {
          "name": "stdout",
          "output_type": "stream",
          "text": [
            "1/1 [==============================] - 0s 316ms/step\n",
            "Prediction: Hate\n",
            "Accuracy: 0.8172884\n"
          ]
        }
      ],
      "source": [
        "from tensorflow.keras.models import load_model\n",
        "\n",
        "# Load the saved model\n",
        "model = load_model(\"rnn_model\")\n",
        "\n",
        "# Perform single prediction\n",
        "text = \"@JMC2488 @jetsgreen @TB12FAN and fuck you too ya little bitch you look like a Mexican sucking a cock in ur profile\"\n",
        "text_encoded = tokenizer(text, truncation=True, padding='max_length', max_length=max_length, return_tensors='tf')\n",
        "bert_output = bert_model(text_encoded)\n",
        "features = bert_output.last_hidden_state\n",
        "features_reshaped = tf.reshape(features, (-1, max_length, 768))\n",
        "predictions = model.predict(features_reshaped)\n",
        "\n",
        "# Interpret the predictions\n",
        "prediction_class = \"Hate\" if predictions[0][0] > 0.5 else \"Not Hate\"\n",
        "accuracy = predictions[0][0] if prediction_class == \"Hate\" else 1 - predictions[0][0]\n",
        "print(\"Prediction:\", prediction_class)\n",
        "print(\"Accuracy:\", accuracy)"
      ]
    },
    {
      "cell_type": "code",
      "execution_count": 50,
      "metadata": {
        "colab": {
          "base_uri": "https://localhost:8080/"
        },
        "id": "De6Qyjq247jH",
        "outputId": "e13f09a8-7bb1-40dd-cf41-de5d882e4a87"
      },
      "outputs": [
        {
          "name": "stdout",
          "output_type": "stream",
          "text": [
            "1/1 [==============================] - 0s 341ms/step\n",
            "Prediction: Hate\n",
            "Accuracy: 0.6687492\n"
          ]
        }
      ],
      "source": [
        "from tensorflow.keras.models import load_model\n",
        "\n",
        "# Load the saved model\n",
        "model = load_model(\"rnn_model\")\n",
        "\n",
        "# Perform single prediction\n",
        "text = \"@X_XPDOTJDOT: Damn near gotta protect my tweets.. stalkers being annoying you got that dope dick. Drive these bitches loco\"\n",
        "text_encoded = tokenizer(text, truncation=True, padding='max_length', max_length=max_length, return_tensors='tf')\n",
        "bert_output = bert_model(text_encoded)\n",
        "features = bert_output.last_hidden_state\n",
        "features_reshaped = tf.reshape(features, (-1, max_length, 768))\n",
        "predictions = model.predict(features_reshaped)\n",
        "\n",
        "# Interpret the predictions\n",
        "prediction_class = \"Hate\" if predictions[0][0] > 0.5 else \"Not Hate\"\n",
        "accuracy = predictions[0][0] if prediction_class == \"Hate\" else 1 - predictions[0][0]\n",
        "print(\"Prediction:\", prediction_class)\n",
        "print(\"Accuracy:\", accuracy)"
      ]
    },
    {
      "cell_type": "markdown",
      "metadata": {
        "id": "MEQlaXcM9t6c"
      },
      "source": [
        "# Bert with ANN"
      ]
    },
    {
      "cell_type": "code",
      "execution_count": 46,
      "metadata": {
        "colab": {
          "base_uri": "https://localhost:8080/"
        },
        "id": "MSr0_q589YEq",
        "outputId": "a6e413ea-93fa-475f-b712-f6d17a9859a3"
      },
      "outputs": [
        {
          "name": "stderr",
          "output_type": "stream",
          "text": [
            "Some weights of the PyTorch model were not used when initializing the TF 2.0 model TFBertModel: ['cls.predictions.transform.dense.bias', 'cls.predictions.transform.LayerNorm.bias', 'cls.seq_relationship.bias', 'cls.predictions.transform.dense.weight', 'cls.seq_relationship.weight', 'cls.predictions.bias', 'cls.predictions.transform.LayerNorm.weight']\n",
            "- This IS expected if you are initializing TFBertModel from a PyTorch model trained on another task or with another architecture (e.g. initializing a TFBertForSequenceClassification model from a BertForPreTraining model).\n",
            "- This IS NOT expected if you are initializing TFBertModel from a PyTorch model that you expect to be exactly identical (e.g. initializing a TFBertForSequenceClassification model from a BertForSequenceClassification model).\n",
            "All the weights of TFBertModel were initialized from the PyTorch model.\n",
            "If your task is similar to the task the model of the checkpoint was trained on, you can already use TFBertModel for predictions without further training.\n"
          ]
        },
        {
          "name": "stdout",
          "output_type": "stream",
          "text": [
            "Epoch 1/10\n",
            "40/40 [==============================] - 2s 14ms/step - loss: 3.9862 - accuracy: 0.5524 - val_loss: 0.9470 - val_accuracy: 0.7437\n",
            "Epoch 2/10\n",
            "40/40 [==============================] - 0s 8ms/step - loss: 1.4944 - accuracy: 0.6823 - val_loss: 0.4934 - val_accuracy: 0.7875\n",
            "Epoch 3/10\n",
            "40/40 [==============================] - 0s 8ms/step - loss: 0.6281 - accuracy: 0.7950 - val_loss: 0.5801 - val_accuracy: 0.7688\n",
            "Epoch 4/10\n",
            "40/40 [==============================] - 0s 8ms/step - loss: 0.4779 - accuracy: 0.8310 - val_loss: 0.4468 - val_accuracy: 0.7437\n",
            "Epoch 5/10\n",
            "40/40 [==============================] - 0s 8ms/step - loss: 0.3513 - accuracy: 0.8607 - val_loss: 0.4444 - val_accuracy: 0.7812\n",
            "Epoch 6/10\n",
            "40/40 [==============================] - 0s 8ms/step - loss: 0.2329 - accuracy: 0.8951 - val_loss: 0.4635 - val_accuracy: 0.7875\n",
            "Epoch 7/10\n",
            "40/40 [==============================] - 0s 8ms/step - loss: 0.2571 - accuracy: 0.9077 - val_loss: 0.6612 - val_accuracy: 0.7812\n",
            "Epoch 8/10\n",
            "40/40 [==============================] - 0s 8ms/step - loss: 0.3038 - accuracy: 0.9030 - val_loss: 0.4490 - val_accuracy: 0.7750\n",
            "Epoch 9/10\n",
            "40/40 [==============================] - 0s 8ms/step - loss: 0.1813 - accuracy: 0.9218 - val_loss: 0.4605 - val_accuracy: 0.8250\n",
            "Epoch 10/10\n",
            "40/40 [==============================] - 0s 8ms/step - loss: 0.1471 - accuracy: 0.9327 - val_loss: 0.5043 - val_accuracy: 0.8062\n"
          ]
        }
      ],
      "source": [
        "import pandas as pd\n",
        "import numpy as np\n",
        "import re\n",
        "import string\n",
        "import tensorflow as tf\n",
        "from transformers import BertTokenizer, TFBertModel\n",
        "from sklearn.model_selection import train_test_split\n",
        "from sklearn.metrics import accuracy_score\n",
        "from tensorflow.keras.layers import Input, Dense, Dropout\n",
        "from tensorflow.keras.models import Model\n",
        "\n",
        "# Load hate speech data from CSV\n",
        "data = pd.read_csv(\"final_dataset.csv\")\n",
        "\n",
        "# Data Preprocessing\n",
        "def clean_text(text):\n",
        "    # Remove mentions, hashtags, URLs, and special characters\n",
        "    text = re.sub(r\"@[A-Za-z0-9]+\", \"\", text)  # Remove mentions\n",
        "    text = re.sub(r\"#\", \"\", text)  # Remove hashtags\n",
        "    text = re.sub(r\"http\\S+\", \"\", text)  # Remove URLs\n",
        "    text = re.sub(r\"[^a-zA-Z\\s]\", \"\", text)  # Remove special characters except spaces and letters\n",
        "    # Convert text to lowercase\n",
        "    text = text.lower()\n",
        "    # Remove extra whitespace\n",
        "    text = re.sub(r\"\\s+\", \" \", text).strip()\n",
        "    return text\n",
        "\n",
        "data['clean_comment'] = data['comment'].apply(clean_text)\n",
        "\n",
        "# Splitting the dataset into training and testing sets\n",
        "X = data['clean_comment']\n",
        "y = data['isHate']\n",
        "X_train, X_test, y_train, y_test = train_test_split(X, y, test_size=0.2, random_state=42)\n",
        "\n",
        "# Initialize BERT tokenizer and model\n",
        "tokenizer = BertTokenizer.from_pretrained('bert-base-uncased')\n",
        "bert_model = TFBertModel.from_pretrained('bert-base-uncased')\n",
        "\n",
        "# Tokenize and encode text data using BERT tokenizer\n",
        "max_length = 128  # Adjust according to your dataset and computational resources\n",
        "X_train_encoded = tokenizer(X_train.tolist(), truncation=True, padding='max_length', max_length=max_length, return_tensors='tf')\n",
        "X_test_encoded = tokenizer(X_test.tolist(), truncation=True, padding='max_length', max_length=max_length, return_tensors='tf')\n",
        "\n",
        "# Extract BERT embeddings for training and testing data\n",
        "X_train_bert_output = bert_model(X_train_encoded)\n",
        "X_test_bert_output = bert_model(X_test_encoded)\n",
        "\n",
        "# Extract BERT embeddings (CLS token) as features\n",
        "X_train_features = X_train_bert_output.last_hidden_state.numpy()\n",
        "X_test_features = X_test_bert_output.last_hidden_state.numpy()\n",
        "\n",
        "# Define ANN model\n",
        "input_layer = Input(shape=(max_length, 768))  # Assuming BERT-base embedding size is 768\n",
        "flatten_layer = tf.keras.layers.Flatten()(input_layer)\n",
        "dense_layer_1 = Dense(256, activation='relu')(flatten_layer)\n",
        "dropout_layer_1 = Dropout(0.3)(dense_layer_1)\n",
        "dense_layer_2 = Dense(128, activation='relu')(dropout_layer_1)\n",
        "dropout_layer_2 = Dropout(0.3)(dense_layer_2)\n",
        "output_layer = Dense(1, activation='sigmoid')(dropout_layer_2)\n",
        "\n",
        "model = Model(inputs=input_layer, outputs=output_layer)\n",
        "model.compile(loss='binary_crossentropy', optimizer='adam', metrics=['accuracy'])\n",
        "\n",
        "# Train ANN model\n",
        "history = model.fit(X_train_features, y_train, epochs=10, batch_size=16, validation_split=0.2)\n"
      ]
    },
    {
      "cell_type": "code",
      "execution_count": 47,
      "metadata": {
        "colab": {
          "base_uri": "https://localhost:8080/",
          "height": 637
        },
        "id": "7BrvhABt90m9",
        "outputId": "b8c61902-5310-427e-f64a-1e0311cfb0e1"
      },
      "outputs": [
        {
          "name": "stdout",
          "output_type": "stream",
          "text": [
            "7/7 [==============================] - 0s 6ms/step - loss: 0.8863 - accuracy: 0.7150\n"
          ]
        },
        {
          "data": {
            "image/png": "[encoded data removed]",
            "text/plain": [
              "<Figure size 640x480 with 1 Axes>"
            ]
          },
          "metadata": {},
          "output_type": "display_data"
        },
        {
          "name": "stdout",
          "output_type": "stream",
          "text": [
            "7/7 [==============================] - 0s 5ms/step\n",
            "Training Accuracy: 0.9327073693275452\n",
            "Validation Accuracy: 0.8062499761581421\n",
            "Testing Accuracy: 0.7149999737739563\n",
            "Precision: 0.6637168141592921\n",
            "Recall: 0.7978723404255319\n",
            "F1 Score: 0.7246376811594202\n"
          ]
        }
      ],
      "source": [
        "from sklearn.metrics import accuracy_score, precision_score, recall_score, f1_score\n",
        "import matplotlib.pyplot as plt\n",
        "\n",
        "# Training and Validation Accuracy\n",
        "train_acc = history.history['accuracy']\n",
        "val_acc = history.history['val_accuracy']\n",
        "\n",
        "# Testing Accuracy\n",
        "test_accuracy = model.evaluate(X_test_features, y_test)[1]\n",
        "\n",
        "# Loss vs Accuracy Graph\n",
        "plt.plot(history.history['accuracy'], label='Training Accuracy')\n",
        "plt.plot(history.history['val_accuracy'], label='Validation Accuracy')\n",
        "plt.xlabel('Epoch')\n",
        "plt.ylabel('Accuracy')\n",
        "plt.title('Training and Validation Accuracy')\n",
        "plt.legend()\n",
        "plt.show()\n",
        "\n",
        "# Testing Metrics\n",
        "y_pred = model.predict(X_test_features)\n",
        "y_pred_binary = np.round(y_pred).astype(int)\n",
        "precision = precision_score(y_test, y_pred_binary)\n",
        "recall = recall_score(y_test, y_pred_binary)\n",
        "f1 = f1_score(y_test, y_pred_binary)\n",
        "\n",
        "print(\"Training Accuracy:\", train_acc[-1])\n",
        "print(\"Validation Accuracy:\", val_acc[-1])\n",
        "print(\"Testing Accuracy:\", test_accuracy)\n",
        "print(\"Precision:\", precision)\n",
        "print(\"Recall:\", recall)\n",
        "print(\"F1 Score:\", f1)"
      ]
    },
    {
      "cell_type": "code",
      "execution_count": 48,
      "metadata": {
        "id": "jlMrdW1N-D62"
      },
      "outputs": [],
      "source": [
        " # Save the trained model\n",
        "model.save(\"ann_model\")"
      ]
    },
    {
      "cell_type": "code",
      "execution_count": 52,
      "metadata": {
        "colab": {
          "base_uri": "https://localhost:8080/"
        },
        "id": "nj7rjDvW-Lum",
        "outputId": "b736c863-358b-4ed9-8eaf-1a6469b141dd"
      },
      "outputs": [
        {
          "name": "stdout",
          "output_type": "stream",
          "text": [
            "1/1 [==============================] - 0s 60ms/step\n",
            "Prediction: Hate\n",
            "Accuracy: 0.9007051\n"
          ]
        }
      ],
      "source": [
        "from tensorflow.keras.models import load_model\n",
        "\n",
        "# Load the saved model\n",
        "model = load_model(\"ann_model\")\n",
        "\n",
        "# Perform single prediction\n",
        "text = \"@JMC2488 @jetsgreen @TB12FAN and fuck you too ya little bitch you look like a Mexican sucking a cock in ur profile\"\n",
        "text_encoded = tokenizer(text, truncation=True, padding='max_length', max_length=max_length, return_tensors='tf')\n",
        "bert_output = bert_model(text_encoded)\n",
        "features = bert_output.last_hidden_state\n",
        "features_reshaped = tf.reshape(features, (-1, max_length, 768))\n",
        "predictions = model.predict(features_reshaped)\n",
        "\n",
        "# Interpret the predictions\n",
        "prediction_class = \"Hate\" if predictions[0][0] > 0.5 else \"Not Hate\"\n",
        "accuracy = predictions[0][0] if prediction_class == \"Hate\" else 1 - predictions[0][0]\n",
        "print(\"Prediction:\", prediction_class)\n",
        "print(\"Accuracy:\", accuracy)"
      ]
    },
    {
      "cell_type": "code",
      "execution_count": 53,
      "metadata": {
        "colab": {
          "base_uri": "https://localhost:8080/"
        },
        "id": "Lypea01l-RO9",
        "outputId": "4a9a43e8-1d18-41b8-a7d5-28c54badf684"
      },
      "outputs": [
        {
          "name": "stdout",
          "output_type": "stream",
          "text": [
            "1/1 [==============================] - 0s 59ms/step\n",
            "Prediction: Hate\n",
            "Accuracy: 0.72629607\n"
          ]
        }
      ],
      "source": [
        "from tensorflow.keras.models import load_model\n",
        "\n",
        "# Load the saved model\n",
        "model = load_model(\"ann_model\")\n",
        "\n",
        "# Perform single prediction\n",
        "text = \"@X_XPDOTJDOT: Damn near gotta protect my tweets.. stalkers being annoying you got that dope dick. Drive these bitches loco\"\n",
        "text_encoded = tokenizer(text, truncation=True, padding='max_length', max_length=max_length, return_tensors='tf')\n",
        "bert_output = bert_model(text_encoded)\n",
        "features = bert_output.last_hidden_state\n",
        "features_reshaped = tf.reshape(features, (-1, max_length, 768))\n",
        "predictions = model.predict(features_reshaped)\n",
        "\n",
        "# Interpret the predictions\n",
        "prediction_class = \"Hate\" if predictions[0][0] > 0.5 else \"Not Hate\"\n",
        "accuracy = predictions[0][0] if prediction_class == \"Hate\" else 1 - predictions[0][0]\n",
        "print(\"Prediction:\", prediction_class)\n",
        "print(\"Accuracy:\", accuracy)"
      ]
    },
    {
      "cell_type": "code",
      "execution_count": 8,
      "metadata": {
        "colab": {
          "base_uri": "https://localhost:8080/"
        },
        "id": "tRIHh0InFaRo",
        "outputId": "eb753a9f-4696-42ca-cba7-9ed9eb1edebf"
      },
      "outputs": [
        {
          "name": "stdout",
          "output_type": "stream",
          "text": [
            "Collecting scikeras\n",
            "  Downloading scikeras-0.12.0-py3-none-any.whl (27 kB)\n",
            "Requirement already satisfied: packaging>=0.21 in /usr/local/lib/python3.10/dist-packages (from scikeras) (24.0)\n",
            "Requirement already satisfied: scikit-learn>=1.0.0 in /usr/local/lib/python3.10/dist-packages (from scikeras) (1.2.2)\n",
            "Requirement already satisfied: numpy>=1.17.3 in /usr/local/lib/python3.10/dist-packages (from scikit-learn>=1.0.0->scikeras) (1.23.5)\n",
            "Requirement already satisfied: scipy>=1.3.2 in /usr/local/lib/python3.10/dist-packages (from scikit-learn>=1.0.0->scikeras) (1.11.4)\n",
            "Requirement already satisfied: joblib>=1.1.1 in /usr/local/lib/python3.10/dist-packages (from scikit-learn>=1.0.0->scikeras) (1.3.2)\n",
            "Requirement already satisfied: threadpoolctl>=2.0.0 in /usr/local/lib/python3.10/dist-packages (from scikit-learn>=1.0.0->scikeras) (3.3.0)\n",
            "Installing collected packages: scikeras\n",
            "Successfully installed scikeras-0.12.0\n"
          ]
        }
      ],
      "source": [
        "!pip install scikeras"
      ]
    },
    {
      "cell_type": "markdown",
      "metadata": {
        "id": "t1GY0uSkGrIw"
      },
      "source": [
        "# Bert With CNN & Esemble"
      ]
    },
    {
      "cell_type": "code",
      "execution_count": 11,
      "metadata": {
        "colab": {
          "base_uri": "https://localhost:8080/"
        },
        "id": "HXEYdbwJ-hS1",
        "outputId": "8bc6ac51-5942-4f28-c4b7-37f41744d8e7"
      },
      "outputs": [
        {
          "name": "stderr",
          "output_type": "stream",
          "text": [
            "Some weights of the PyTorch model were not used when initializing the TF 2.0 model TFBertModel: ['cls.predictions.bias', 'cls.seq_relationship.weight', 'cls.seq_relationship.bias', 'cls.predictions.transform.dense.bias', 'cls.predictions.transform.dense.weight', 'cls.predictions.transform.LayerNorm.weight', 'cls.predictions.transform.LayerNorm.bias']\n",
            "- This IS expected if you are initializing TFBertModel from a PyTorch model trained on another task or with another architecture (e.g. initializing a TFBertForSequenceClassification model from a BertForPreTraining model).\n",
            "- This IS NOT expected if you are initializing TFBertModel from a PyTorch model that you expect to be exactly identical (e.g. initializing a TFBertForSequenceClassification model from a BertForSequenceClassification model).\n",
            "All the weights of TFBertModel were initialized from the PyTorch model.\n",
            "If your task is similar to the task the model of the checkpoint was trained on, you can already use TFBertModel for predictions without further training.\n",
            "/usr/local/lib/python3.10/dist-packages/scikeras/wrappers.py:915: UserWarning: ``build_fn`` will be renamed to ``model`` in a future release, at which point use of ``build_fn`` will raise an Error instead.\n",
            "  X, y = self._initialize(X, y)\n"
          ]
        },
        {
          "name": "stdout",
          "output_type": "stream",
          "text": [
            "Ensemble Model Accuracy: 0.78\n"
          ]
        }
      ],
      "source": [
        "import pandas as pd\n",
        "import numpy as np\n",
        "import re\n",
        "import string\n",
        "import tensorflow as tf\n",
        "from transformers import BertTokenizer, TFBertModel\n",
        "from tensorflow.keras.layers import Input, Conv1D, GlobalMaxPooling1D, Dense, Dropout\n",
        "from tensorflow.keras.models import Model\n",
        "from sklearn.model_selection import train_test_split\n",
        "from sklearn.metrics import accuracy_score\n",
        "from sklearn.ensemble import VotingClassifier\n",
        "from scikeras.wrappers import KerasClassifier\n",
        "\n",
        "# Load hate speech data from CSV\n",
        "data = pd.read_csv(\"final_dataset.csv\")\n",
        "\n",
        "# Data Preprocessing\n",
        "def clean_text(text):\n",
        "    # Remove mentions, hashtags, URLs, and special characters\n",
        "    text = re.sub(r\"@[A-Za-z0-9]+\", \"\", text)  # Remove mentions\n",
        "    text = re.sub(r\"#\", \"\", text)  # Remove hashtags\n",
        "    text = re.sub(r\"http\\S+\", \"\", text)  # Remove URLs\n",
        "    text = re.sub(r\"[^a-zA-Z\\s]\", \"\", text)  # Remove special characters except spaces and letters\n",
        "    # Convert text to lowercase\n",
        "    text = text.lower()\n",
        "    # Remove extra whitespace\n",
        "    text = re.sub(r\"\\s+\", \" \", text).strip()\n",
        "    return text\n",
        "\n",
        "data['clean_comment'] = data['comment'].apply(clean_text)\n",
        "\n",
        "# Splitting the dataset into training and testing sets\n",
        "X = data['clean_comment']\n",
        "y = data['isHate']\n",
        "X_train, X_test, y_train, y_test = train_test_split(X, y, test_size=0.2, random_state=42)\n",
        "\n",
        "# Initialize BERT tokenizer and model\n",
        "tokenizer = BertTokenizer.from_pretrained('bert-base-uncased')\n",
        "bert_model = TFBertModel.from_pretrained('bert-base-uncased')\n",
        "\n",
        "# Tokenize and encode text data using BERT tokenizer\n",
        "max_length = 128  # Adjust according to your dataset and computational resources\n",
        "X_train_encoded = tokenizer(X_train.tolist(), truncation=True, padding='max_length', max_length=max_length, return_tensors='tf')\n",
        "X_test_encoded = tokenizer(X_test.tolist(), truncation=True, padding='max_length', max_length=max_length, return_tensors='tf')\n",
        "\n",
        "# Extract BERT embeddings for training and testing data\n",
        "X_train_bert_output = bert_model(X_train_encoded)\n",
        "X_test_bert_output = bert_model(X_test_encoded)\n",
        "\n",
        "# Extract BERT embeddings (CLS token) as features\n",
        "X_train_features = X_train_bert_output.last_hidden_state\n",
        "X_test_features = X_test_bert_output.last_hidden_state\n",
        "\n",
        "# Reshape BERT embeddings for CNN\n",
        "X_train_cnn = tf.reshape(X_train_features, (-1, max_length, 768))\n",
        "X_test_cnn = tf.reshape(X_test_features, (-1, max_length, 768))\n",
        "\n",
        "def create_cnn_model():\n",
        "    input_layer = Input(shape=(max_length, 768))  # Assuming BERT-base embedding size is 768\n",
        "    conv1d_layer_1 = Conv1D(filters=128, kernel_size=3, activation='relu')(input_layer)\n",
        "    conv1d_layer_2 = Conv1D(filters=64, kernel_size=3, activation='relu')(conv1d_layer_1)\n",
        "    conv1d_layer_3 = Conv1D(filters=32, kernel_size=3, activation='relu')(conv1d_layer_2)\n",
        "    pooling_layer_1 = GlobalMaxPooling1D()(conv1d_layer_3)\n",
        "    dropout_layer_1 = Dropout(0.5)(pooling_layer_1)\n",
        "    output_layer = Dense(1, activation='sigmoid')(dropout_layer_1)\n",
        "\n",
        "    model = Model(inputs=input_layer, outputs=output_layer)\n",
        "    model.compile(loss='binary_crossentropy', optimizer='adam', metrics=['accuracy'])\n",
        "    return model\n",
        "\n",
        "cnn_estimator = KerasClassifier(build_fn=create_cnn_model, epochs=10, batch_size=16, verbose=0)\n",
        "\n",
        "# Train ensemble model\n",
        "ensemble_model = VotingClassifier(estimators=[('cnn', cnn_estimator)], voting='hard')\n",
        "ensemble_model.fit(X_train_cnn, y_train)\n",
        "\n",
        "# Make predictions using ensemble model\n",
        "ensemble_predictions = ensemble_model.predict(X_test_cnn)\n",
        "ensemble_accuracy = accuracy_score(y_test, ensemble_predictions)\n",
        "print(\"Ensemble Model Accuracy:\", ensemble_accuracy)\n"
      ]
    },
    {
      "cell_type": "code",
      "execution_count": 12,
      "metadata": {
        "colab": {
          "base_uri": "https://localhost:8080/",
          "height": 581
        },
        "id": "kYkDT9B6CyDr",
        "outputId": "67ecfb4e-266c-4b59-be64-2d1c025fcb45"
      },
      "outputs": [
        {
          "data": {
            "image/png": "[encoded data removed]",
            "text/plain": [
              "<Figure size 640x480 with 1 Axes>"
            ]
          },
          "metadata": {},
          "output_type": "display_data"
        },
        {
          "name": "stdout",
          "output_type": "stream",
          "text": [
            "Training Accuracy: 0.942097008228302\n",
            "Validation Accuracy: 0.84375\n",
            "Testing Accuracy: 0.78\n",
            "Precision: 0.8289473684210527\n",
            "Recall: 0.6702127659574468\n",
            "F1 Score: 0.7411764705882352\n"
          ]
        }
      ],
      "source": [
        "from sklearn.metrics import accuracy_score, precision_score, recall_score, f1_score\n",
        "import matplotlib.pyplot as plt\n",
        "\n",
        "# Training and Validation Accuracy\n",
        "train_acc = history.history['accuracy']\n",
        "val_acc = history.history['val_accuracy']\n",
        "\n",
        "# Testing Accuracy\n",
        "test_accuracy = accuracy_score(y_test, ensemble_model.predict(X_test_cnn))\n",
        "\n",
        "# Loss vs Accuracy Graph\n",
        "plt.plot(history.history['accuracy'], label='Training Accuracy')\n",
        "plt.plot(history.history['val_accuracy'], label='Validation Accuracy')\n",
        "plt.xlabel('Epoch')\n",
        "plt.ylabel('Accuracy')\n",
        "plt.title('Training and Validation Accuracy')\n",
        "plt.legend()\n",
        "plt.show()\n",
        "\n",
        "# Testing Metrics\n",
        "y_pred_ensemble = ensemble_model.predict(X_test_cnn)\n",
        "y_pred_binary_ensemble = (y_pred_ensemble > 0.5).astype(int)\n",
        "precision_ensemble = precision_score(y_test, y_pred_binary_ensemble)\n",
        "recall_ensemble = recall_score(y_test, y_pred_binary_ensemble)\n",
        "f1_ensemble = f1_score(y_test, y_pred_binary_ensemble)\n",
        "\n",
        "print(\"Training Accuracy:\", train_acc[-1])\n",
        "print(\"Validation Accuracy:\", val_acc[-1])\n",
        "print(\"Testing Accuracy:\", test_accuracy)\n",
        "print(\"Precision:\", precision_ensemble)\n",
        "print(\"Recall:\", recall_ensemble)\n",
        "print(\"F1 Score:\", f1_ensemble)\n"
      ]
    },
    {
      "cell_type": "markdown",
      "metadata": {
        "id": "MDDR8BEsJbl-"
      },
      "source": [
        "# Bert with CNN & Activation"
      ]
    },
    {
      "cell_type": "code",
      "execution_count": 31,
      "metadata": {
        "colab": {
          "base_uri": "https://localhost:8080/"
        },
        "id": "f8KgAzO-IN6L",
        "outputId": "10d3b43e-b3d4-447e-9956-487b45f7e3ea"
      },
      "outputs": [
        {
          "name": "stderr",
          "output_type": "stream",
          "text": [
            "Some weights of the PyTorch model were not used when initializing the TF 2.0 model TFBertModel: ['cls.predictions.bias', 'cls.seq_relationship.weight', 'cls.seq_relationship.bias', 'cls.predictions.transform.dense.bias', 'cls.predictions.transform.dense.weight', 'cls.predictions.transform.LayerNorm.weight', 'cls.predictions.transform.LayerNorm.bias']\n",
            "- This IS expected if you are initializing TFBertModel from a PyTorch model trained on another task or with another architecture (e.g. initializing a TFBertForSequenceClassification model from a BertForPreTraining model).\n",
            "- This IS NOT expected if you are initializing TFBertModel from a PyTorch model that you expect to be exactly identical (e.g. initializing a TFBertForSequenceClassification model from a BertForSequenceClassification model).\n",
            "All the weights of TFBertModel were initialized from the PyTorch model.\n",
            "If your task is similar to the task the model of the checkpoint was trained on, you can already use TFBertModel for predictions without further training.\n"
          ]
        },
        {
          "name": "stdout",
          "output_type": "stream",
          "text": [
            "Epoch 1/10\n",
            "40/40 [==============================] - 2s 24ms/step - loss: 0.7059 - accuracy: 0.5853 - val_loss: 0.5151 - val_accuracy: 0.8188\n",
            "Epoch 2/10\n",
            "40/40 [==============================] - 1s 20ms/step - loss: 0.5106 - accuracy: 0.7606 - val_loss: 0.3579 - val_accuracy: 0.8687\n",
            "Epoch 3/10\n",
            "40/40 [==============================] - 1s 20ms/step - loss: 0.3964 - accuracy: 0.8232 - val_loss: 0.3803 - val_accuracy: 0.8375\n",
            "Epoch 4/10\n",
            "40/40 [==============================] - 1s 21ms/step - loss: 0.3623 - accuracy: 0.8576 - val_loss: 0.3492 - val_accuracy: 0.8687\n",
            "Epoch 5/10\n",
            "40/40 [==============================] - 1s 21ms/step - loss: 0.2999 - accuracy: 0.8779 - val_loss: 0.2767 - val_accuracy: 0.9000\n",
            "Epoch 6/10\n",
            "40/40 [==============================] - 1s 22ms/step - loss: 0.2448 - accuracy: 0.9030 - val_loss: 0.3168 - val_accuracy: 0.8500\n",
            "Epoch 7/10\n",
            "40/40 [==============================] - 1s 21ms/step - loss: 0.2000 - accuracy: 0.9264 - val_loss: 0.2989 - val_accuracy: 0.8813\n",
            "Epoch 8/10\n",
            "40/40 [==============================] - 1s 21ms/step - loss: 0.1563 - accuracy: 0.9484 - val_loss: 0.2802 - val_accuracy: 0.9000\n",
            "Epoch 9/10\n",
            "40/40 [==============================] - 1s 21ms/step - loss: 0.1204 - accuracy: 0.9671 - val_loss: 0.2915 - val_accuracy: 0.8875\n",
            "Epoch 10/10\n",
            "40/40 [==============================] - 1s 23ms/step - loss: 0.1044 - accuracy: 0.9812 - val_loss: 0.3203 - val_accuracy: 0.8938\n"
          ]
        }
      ],
      "source": [
        "import pandas as pd\n",
        "import numpy as np\n",
        "import re\n",
        "import string\n",
        "import tensorflow as tf\n",
        "from transformers import BertTokenizer, TFBertModel\n",
        "from tensorflow.keras.layers import Input, Conv1D, GlobalMaxPooling1D, Dense, Dropout\n",
        "from tensorflow.keras.models import Model\n",
        "from sklearn.model_selection import train_test_split\n",
        "from sklearn.metrics import accuracy_score\n",
        "from sklearn.ensemble import VotingClassifier\n",
        "from scikeras.wrappers import KerasClassifier\n",
        "from tensorflow.keras.layers import Activation\n",
        "\n",
        "# Load hate speech data from CSV\n",
        "data = pd.read_csv(\"final_dataset.csv\")\n",
        "\n",
        "# Data Preprocessing\n",
        "def clean_text(text):\n",
        "    # Remove mentions, hashtags, URLs, and special characters\n",
        "    text = re.sub(r\"@[A-Za-z0-9]+\", \"\", text)  # Remove mentions\n",
        "    text = re.sub(r\"#\", \"\", text)  # Remove hashtags\n",
        "    text = re.sub(r\"http\\S+\", \"\", text)  # Remove URLs\n",
        "    text = re.sub(r\"[^a-zA-Z\\s]\", \"\", text)  # Remove special characters except spaces and letters\n",
        "    # Convert text to lowercase\n",
        "    text = text.lower()\n",
        "    # Remove extra whitespace\n",
        "    text = re.sub(r\"\\s+\", \" \", text).strip()\n",
        "    return text\n",
        "\n",
        "data['clean_comment'] = data['comment'].apply(clean_text)\n",
        "\n",
        "# Splitting the dataset into training and testing sets\n",
        "X = data['clean_comment']\n",
        "y = data['isHate']\n",
        "X_train, X_test, y_train, y_test = train_test_split(X, y, test_size=0.2, random_state=42)\n",
        "\n",
        "# Initialize BERT tokenizer and model\n",
        "tokenizer = BertTokenizer.from_pretrained('bert-base-uncased')\n",
        "bert_model = TFBertModel.from_pretrained('bert-base-uncased')\n",
        "\n",
        "# Tokenize and encode text data using BERT tokenizer\n",
        "max_length = 128  # Adjust according to your dataset and computational resources\n",
        "X_train_encoded = tokenizer(X_train.tolist(), truncation=True, padding='max_length', max_length=max_length, return_tensors='tf')\n",
        "X_test_encoded = tokenizer(X_test.tolist(), truncation=True, padding='max_length', max_length=max_length, return_tensors='tf')\n",
        "\n",
        "# Extract BERT embeddings for training and testing data\n",
        "X_train_bert_output = bert_model(X_train_encoded)\n",
        "X_test_bert_output = bert_model(X_test_encoded)\n",
        "\n",
        "# Extract BERT embeddings (CLS token) as features\n",
        "X_train_features = X_train_bert_output.last_hidden_state\n",
        "X_test_features = X_test_bert_output.last_hidden_state\n",
        "\n",
        "# Reshape BERT embeddings for CNN\n",
        "X_train_cnn = tf.reshape(X_train_features, (-1, max_length, 768))\n",
        "X_test_cnn = tf.reshape(X_test_features, (-1, max_length, 768))\n",
        "\n",
        "# Define CNN model with more convolutional layers and different activation functions\n",
        "input_layer = Input(shape=(max_length, 768))  # Assuming BERT-base embedding size is 768\n",
        "conv1d_layer_1 = Conv1D(filters=128, kernel_size=3, activation='relu')(input_layer)\n",
        "conv1d_layer_2 = Conv1D(filters=64, kernel_size=3, activation='tanh')(conv1d_layer_1)\n",
        "conv1d_layer_3 = Conv1D(filters=32, kernel_size=3, activation='sigmoid')(conv1d_layer_2)\n",
        "pooling_layer_1 = GlobalMaxPooling1D()(conv1d_layer_3)\n",
        "dropout_layer_1 = Dropout(0.5)(pooling_layer_1)\n",
        "output_layer = Dense(1, activation='sigmoid')(dropout_layer_1)\n",
        "\n",
        "model = Model(inputs=input_layer, outputs=output_layer)\n",
        "model.compile(loss='binary_crossentropy', optimizer='adam', metrics=['accuracy'])\n",
        "\n",
        "# Train CNN model\n",
        "history = model.fit(X_train_cnn, y_train, epochs=10, batch_size=16, validation_split=0.2)"
      ]
    },
    {
      "cell_type": "code",
      "execution_count": 32,
      "metadata": {
        "colab": {
          "base_uri": "https://localhost:8080/",
          "height": 637
        },
        "id": "ucEDkk3QJTdK",
        "outputId": "7b46ff84-b5df-4286-b77e-b0e099ff544c"
      },
      "outputs": [
        {
          "name": "stdout",
          "output_type": "stream",
          "text": [
            "7/7 [==============================] - 0s 13ms/step - loss: 0.5788 - accuracy: 0.8100\n"
          ]
        },
        {
          "data": {
            "image/png": "[encoded data removed]",
            "text/plain": [
              "<Figure size 640x480 with 1 Axes>"
            ]
          },
          "metadata": {},
          "output_type": "display_data"
        },
        {
          "name": "stdout",
          "output_type": "stream",
          "text": [
            "7/7 [==============================] - 0s 11ms/step\n",
            "Training Accuracy: 0.9812206625938416\n",
            "Validation Accuracy: 0.893750011920929\n",
            "Testing Accuracy: 0.8100000023841858\n",
            "Precision: 0.8333333333333334\n",
            "Recall: 0.7446808510638298\n",
            "F1 Score: 0.7865168539325842\n"
          ]
        }
      ],
      "source": [
        "from sklearn.metrics import accuracy_score, precision_score, recall_score, f1_score\n",
        "import matplotlib.pyplot as plt\n",
        "\n",
        "# Training and Validation Accuracy\n",
        "train_acc = history.history['accuracy']\n",
        "val_acc = history.history['val_accuracy']\n",
        "\n",
        "# Testing Accuracy\n",
        "test_accuracy = model.evaluate(X_test_features, y_test)[1]\n",
        "\n",
        "# Loss vs Accuracy Graph\n",
        "plt.plot(history.history['accuracy'], label='Training Accuracy')\n",
        "plt.plot(history.history['val_accuracy'], label='Validation Accuracy')\n",
        "plt.xlabel('Epoch')\n",
        "plt.ylabel('Accuracy')\n",
        "plt.title('Training and Validation Accuracy')\n",
        "plt.legend()\n",
        "plt.show()\n",
        "\n",
        "# Testing Metrics\n",
        "y_pred = model.predict(X_test_features)\n",
        "y_pred_binary = np.round(y_pred).astype(int)\n",
        "precision = precision_score(y_test, y_pred_binary)\n",
        "recall = recall_score(y_test, y_pred_binary)\n",
        "f1 = f1_score(y_test, y_pred_binary)\n",
        "\n",
        "print(\"Training Accuracy:\", train_acc[-1])\n",
        "print(\"Validation Accuracy:\", val_acc[-1])\n",
        "print(\"Testing Accuracy:\", test_accuracy)\n",
        "print(\"Precision:\", precision)\n",
        "print(\"Recall:\", recall)\n",
        "print(\"F1 Score:\", f1)"
      ]
    },
    {
      "cell_type": "code",
      "execution_count": 33,
      "metadata": {
        "colab": {
          "base_uri": "https://localhost:8080/"
        },
        "id": "RJWYk5omKFzp",
        "outputId": "89c36dc7-bb3a-4cfc-afb2-244afafbb83c"
      },
      "outputs": [
        {
          "name": "stdout",
          "output_type": "stream",
          "text": [
            "1/1 [==============================] - 0s 17ms/step\n",
            "Prediction: Hate\n",
            "Accuracy: 0.7863082\n"
          ]
        }
      ],
      "source": [
        "# Perform single prediction\n",
        "text = \"@JMC2488 @jetsgreen @TB12FAN and fuck you too ya little bitch you look like a Mexican sucking a cock in ur profile\"\n",
        "text_encoded = tokenizer(text, truncation=True, padding='max_length', max_length=max_length, return_tensors='tf')\n",
        "bert_output = bert_model(text_encoded)\n",
        "features = bert_output.last_hidden_state\n",
        "features_reshaped = tf.reshape(features, (-1, max_length, 768))\n",
        "predictions = model.predict(features_reshaped)\n",
        "\n",
        "# Interpret the predictions\n",
        "prediction_class = \"Hate\" if predictions[0][0] > 0.5 else \"Not Hate\"\n",
        "accuracy = predictions[0][0] if prediction_class == \"Hate\" else 1 - predictions[0][0]\n",
        "print(\"Prediction:\", prediction_class)\n",
        "print(\"Accuracy:\", accuracy)"
      ]
    },
    {
      "cell_type": "code",
      "execution_count": 34,
      "metadata": {
        "colab": {
          "base_uri": "https://localhost:8080/"
        },
        "id": "q0RYs_iDKiQG",
        "outputId": "4d56243a-7ba6-4a3e-8240-293141d5baa5"
      },
      "outputs": [
        {
          "name": "stdout",
          "output_type": "stream",
          "text": [
            "1/1 [==============================] - 0s 19ms/step\n",
            "Prediction: Not Hate\n",
            "Accuracy: 0.717127650976181\n"
          ]
        }
      ],
      "source": [
        "# Perform single prediction\n",
        "text = \"@X_XPDOTJDOT: Damn near gotta protect my tweets.. stalkers being annoying you got that dope dick. Drive these bitches loco\"\n",
        "text_encoded = tokenizer(text, truncation=True, padding='max_length', max_length=max_length, return_tensors='tf')\n",
        "bert_output = bert_model(text_encoded)\n",
        "features = bert_output.last_hidden_state\n",
        "features_reshaped = tf.reshape(features, (-1, max_length, 768))\n",
        "predictions = model.predict(features_reshaped)\n",
        "\n",
        "# Interpret the predictions\n",
        "prediction_class = \"Hate\" if predictions[0][0] > 0.5 else \"Not Hate\"\n",
        "accuracy = predictions[0][0] if prediction_class == \"Hate\" else 1 - predictions[0][0]\n",
        "print(\"Prediction:\", prediction_class)\n",
        "print(\"Accuracy:\", accuracy)"
      ]
    },
    {
      "cell_type": "code",
      "execution_count": null,
      "metadata": {
        "id": "Zz_ii6Q5KsCS"
      },
      "outputs": [],
      "source": []
    }
  ],
  "metadata": {
    "accelerator": "GPU",
    "colab": {
      "gpuType": "V100",
      "machine_shape": "hm",
      "provenance": []
    },
    "kernelspec": {
      "display_name": "Python 3",
      "name": "python3"
    },
    "language_info": {
      "name": "python"
    },
    "widgets": {
      "application/vnd.jupyter.widget-state+json": {
        "01ceaa31543540e3952dcfea9981aa5a": {
          "model_module": "@jupyter-widgets/controls",
          "model_module_version": "1.5.0",
          "model_name": "ProgressStyleModel",
          "state": {
            "_model_module": "@jupyter-widgets/controls",
            "_model_module_version": "1.5.0",
            "_model_name": "ProgressStyleModel",
            "_view_count": null,
            "_view_module": "@jupyter-widgets/base",
            "_view_module_version": "1.2.0",
            "_view_name": "StyleView",
            "bar_color": null,
            "description_width": ""
          }
        },
        "0351b54a92bb4d86ad1eaa9a33f75ca3": {
          "model_module": "@jupyter-widgets/controls",
          "model_module_version": "1.5.0",
          "model_name": "DescriptionStyleModel",
          "state": {
            "_model_module": "@jupyter-widgets/controls",
            "_model_module_version": "1.5.0",
            "_model_name": "DescriptionStyleModel",
            "_view_count": null,
            "_view_module": "@jupyter-widgets/base",
            "_view_module_version": "1.2.0",
            "_view_name": "StyleView",
            "description_width": ""
          }
        },
        "04c481016f64455e8930987cae29f51c": {
          "model_module": "@jupyter-widgets/controls",
          "model_module_version": "1.5.0",
          "model_name": "HTMLModel",
          "state": {
            "_dom_classes": [],
            "_model_module": "@jupyter-widgets/controls",
            "_model_module_version": "1.5.0",
            "_model_name": "HTMLModel",
            "_view_count": null,
            "_view_module": "@jupyter-widgets/controls",
            "_view_module_version": "1.5.0",
            "_view_name": "HTMLView",
            "description": "",
            "description_tooltip": null,
            "layout": "IPY_MODEL_4e62a4dec10b4de89325685f40c295b8",
            "placeholder": "​",
            "style": "IPY_MODEL_2210fda460af437aafcd2bd790624ba6",
            "value": "config.json: 100%"
          }
        },
        "092242be9d1a468b8222718da130226f": {
          "model_module": "@jupyter-widgets/base",
          "model_module_version": "1.2.0",
          "model_name": "LayoutModel",
          "state": {
            "_model_module": "@jupyter-widgets/base",
            "_model_module_version": "1.2.0",
            "_model_name": "LayoutModel",
            "_view_count": null,
            "_view_module": "@jupyter-widgets/base",
            "_view_module_version": "1.2.0",
            "_view_name": "LayoutView",
            "align_content": null,
            "align_items": null,
            "align_self": null,
            "border": null,
            "bottom": null,
            "display": null,
            "flex": null,
            "flex_flow": null,
            "grid_area": null,
            "grid_auto_columns": null,
            "grid_auto_flow": null,
            "grid_auto_rows": null,
            "grid_column": null,
            "grid_gap": null,
            "grid_row": null,
            "grid_template_areas": null,
            "grid_template_columns": null,
            "grid_template_rows": null,
            "height": null,
            "justify_content": null,
            "justify_items": null,
            "left": null,
            "margin": null,
            "max_height": null,
            "max_width": null,
            "min_height": null,
            "min_width": null,
            "object_fit": null,
            "object_position": null,
            "order": null,
            "overflow": null,
            "overflow_x": null,
            "overflow_y": null,
            "padding": null,
            "right": null,
            "top": null,
            "visibility": null,
            "width": null
          }
        },
        "12ad89a008ba4ae79b78f7d284ccd285": {
          "model_module": "@jupyter-widgets/controls",
          "model_module_version": "1.5.0",
          "model_name": "ProgressStyleModel",
          "state": {
            "_model_module": "@jupyter-widgets/controls",
            "_model_module_version": "1.5.0",
            "_model_name": "ProgressStyleModel",
            "_view_count": null,
            "_view_module": "@jupyter-widgets/base",
            "_view_module_version": "1.2.0",
            "_view_name": "StyleView",
            "bar_color": null,
            "description_width": ""
          }
        },
        "12ffb75c05ed4921a26bdd503391622d": {
          "model_module": "@jupyter-widgets/controls",
          "model_module_version": "1.5.0",
          "model_name": "HTMLModel",
          "state": {
            "_dom_classes": [],
            "_model_module": "@jupyter-widgets/controls",
            "_model_module_version": "1.5.0",
            "_model_name": "HTMLModel",
            "_view_count": null,
            "_view_module": "@jupyter-widgets/controls",
            "_view_module_version": "1.5.0",
            "_view_name": "HTMLView",
            "description": "",
            "description_tooltip": null,
            "layout": "IPY_MODEL_4282c2fa8e1a49fca9f3d103984f90c0",
            "placeholder": "​",
            "style": "IPY_MODEL_217670da85764e0483914b0d37cbd830",
            "value": " 466k/466k [00:00&lt;00:00, 779kB/s]"
          }
        },
        "14ef9cbd90ae4859bc768b3ac85ee626": {
          "model_module": "@jupyter-widgets/controls",
          "model_module_version": "1.5.0",
          "model_name": "HBoxModel",
          "state": {
            "_dom_classes": [],
            "_model_module": "@jupyter-widgets/controls",
            "_model_module_version": "1.5.0",
            "_model_name": "HBoxModel",
            "_view_count": null,
            "_view_module": "@jupyter-widgets/controls",
            "_view_module_version": "1.5.0",
            "_view_name": "HBoxView",
            "box_style": "",
            "children": [
              "IPY_MODEL_04c481016f64455e8930987cae29f51c",
              "IPY_MODEL_9a96ac2331cb454389f686247b32f907",
              "IPY_MODEL_285a9346c97242f896c1694bfc96cb27"
            ],
            "layout": "IPY_MODEL_a7b4440c4ffd4ae5b8053b5e48eb16cd"
          }
        },
        "2147efcda2214646ab8f938ca3c3e77e": {
          "model_module": "@jupyter-widgets/controls",
          "model_module_version": "1.5.0",
          "model_name": "HBoxModel",
          "state": {
            "_dom_classes": [],
            "_model_module": "@jupyter-widgets/controls",
            "_model_module_version": "1.5.0",
            "_model_name": "HBoxModel",
            "_view_count": null,
            "_view_module": "@jupyter-widgets/controls",
            "_view_module_version": "1.5.0",
            "_view_name": "HBoxView",
            "box_style": "",
            "children": [
              "IPY_MODEL_c06a8fe9f3d142bd9dca93ae66d367c9",
              "IPY_MODEL_6010c6e8d8ea4eeba318e5ec4c5efd8d",
              "IPY_MODEL_3a6086a8213441bbab701653135107a2"
            ],
            "layout": "IPY_MODEL_c49aea0344414af2b8b0466a41fc66bd"
          }
        },
        "217670da85764e0483914b0d37cbd830": {
          "model_module": "@jupyter-widgets/controls",
          "model_module_version": "1.5.0",
          "model_name": "DescriptionStyleModel",
          "state": {
            "_model_module": "@jupyter-widgets/controls",
            "_model_module_version": "1.5.0",
            "_model_name": "DescriptionStyleModel",
            "_view_count": null,
            "_view_module": "@jupyter-widgets/base",
            "_view_module_version": "1.2.0",
            "_view_name": "StyleView",
            "description_width": ""
          }
        },
        "2210fda460af437aafcd2bd790624ba6": {
          "model_module": "@jupyter-widgets/controls",
          "model_module_version": "1.5.0",
          "model_name": "DescriptionStyleModel",
          "state": {
            "_model_module": "@jupyter-widgets/controls",
            "_model_module_version": "1.5.0",
            "_model_name": "DescriptionStyleModel",
            "_view_count": null,
            "_view_module": "@jupyter-widgets/base",
            "_view_module_version": "1.2.0",
            "_view_name": "StyleView",
            "description_width": ""
          }
        },
        "22e8cc3e132443c98ced426109ca2687": {
          "model_module": "@jupyter-widgets/controls",
          "model_module_version": "1.5.0",
          "model_name": "HTMLModel",
          "state": {
            "_dom_classes": [],
            "_model_module": "@jupyter-widgets/controls",
            "_model_module_version": "1.5.0",
            "_model_name": "HTMLModel",
            "_view_count": null,
            "_view_module": "@jupyter-widgets/controls",
            "_view_module_version": "1.5.0",
            "_view_name": "HTMLView",
            "description": "",
            "description_tooltip": null,
            "layout": "IPY_MODEL_fcb85433447c45b08b2b35a0d82cdc8d",
            "placeholder": "​",
            "style": "IPY_MODEL_440830cfef784827a88a59bd108a5a7a",
            "value": " 232k/232k [00:00&lt;00:00, 282kB/s]"
          }
        },
        "285a9346c97242f896c1694bfc96cb27": {
          "model_module": "@jupyter-widgets/controls",
          "model_module_version": "1.5.0",
          "model_name": "HTMLModel",
          "state": {
            "_dom_classes": [],
            "_model_module": "@jupyter-widgets/controls",
            "_model_module_version": "1.5.0",
            "_model_name": "HTMLModel",
            "_view_count": null,
            "_view_module": "@jupyter-widgets/controls",
            "_view_module_version": "1.5.0",
            "_view_name": "HTMLView",
            "description": "",
            "description_tooltip": null,
            "layout": "IPY_MODEL_3773e289c186489ba41cf17bbae1cdab",
            "placeholder": "​",
            "style": "IPY_MODEL_0351b54a92bb4d86ad1eaa9a33f75ca3",
            "value": " 570/570 [00:00&lt;00:00, 54.4kB/s]"
          }
        },
        "2fa31442fc1b4c5e92621ef4e426c9e5": {
          "model_module": "@jupyter-widgets/base",
          "model_module_version": "1.2.0",
          "model_name": "LayoutModel",
          "state": {
            "_model_module": "@jupyter-widgets/base",
            "_model_module_version": "1.2.0",
            "_model_name": "LayoutModel",
            "_view_count": null,
            "_view_module": "@jupyter-widgets/base",
            "_view_module_version": "1.2.0",
            "_view_name": "LayoutView",
            "align_content": null,
            "align_items": null,
            "align_self": null,
            "border": null,
            "bottom": null,
            "display": null,
            "flex": null,
            "flex_flow": null,
            "grid_area": null,
            "grid_auto_columns": null,
            "grid_auto_flow": null,
            "grid_auto_rows": null,
            "grid_column": null,
            "grid_gap": null,
            "grid_row": null,
            "grid_template_areas": null,
            "grid_template_columns": null,
            "grid_template_rows": null,
            "height": null,
            "justify_content": null,
            "justify_items": null,
            "left": null,
            "margin": null,
            "max_height": null,
            "max_width": null,
            "min_height": null,
            "min_width": null,
            "object_fit": null,
            "object_position": null,
            "order": null,
            "overflow": null,
            "overflow_x": null,
            "overflow_y": null,
            "padding": null,
            "right": null,
            "top": null,
            "visibility": null,
            "width": null
          }
        },
        "30816bd9c6de4ceab4a804e390cd9735": {
          "model_module": "@jupyter-widgets/controls",
          "model_module_version": "1.5.0",
          "model_name": "HBoxModel",
          "state": {
            "_dom_classes": [],
            "_model_module": "@jupyter-widgets/controls",
            "_model_module_version": "1.5.0",
            "_model_name": "HBoxModel",
            "_view_count": null,
            "_view_module": "@jupyter-widgets/controls",
            "_view_module_version": "1.5.0",
            "_view_name": "HBoxView",
            "box_style": "",
            "children": [
              "IPY_MODEL_bab87c271a164292a2d336a385c9205a",
              "IPY_MODEL_ec6fa3c7b6324f3cbe6e4b2e392486da",
              "IPY_MODEL_e150f2cae4be4dcf9a9bb798e87f7f47"
            ],
            "layout": "IPY_MODEL_8f858fa5c8c046998b6cb8a6cc649693"
          }
        },
        "3773e289c186489ba41cf17bbae1cdab": {
          "model_module": "@jupyter-widgets/base",
          "model_module_version": "1.2.0",
          "model_name": "LayoutModel",
          "state": {
            "_model_module": "@jupyter-widgets/base",
            "_model_module_version": "1.2.0",
            "_model_name": "LayoutModel",
            "_view_count": null,
            "_view_module": "@jupyter-widgets/base",
            "_view_module_version": "1.2.0",
            "_view_name": "LayoutView",
            "align_content": null,
            "align_items": null,
            "align_self": null,
            "border": null,
            "bottom": null,
            "display": null,
            "flex": null,
            "flex_flow": null,
            "grid_area": null,
            "grid_auto_columns": null,
            "grid_auto_flow": null,
            "grid_auto_rows": null,
            "grid_column": null,
            "grid_gap": null,
            "grid_row": null,
            "grid_template_areas": null,
            "grid_template_columns": null,
            "grid_template_rows": null,
            "height": null,
            "justify_content": null,
            "justify_items": null,
            "left": null,
            "margin": null,
            "max_height": null,
            "max_width": null,
            "min_height": null,
            "min_width": null,
            "object_fit": null,
            "object_position": null,
            "order": null,
            "overflow": null,
            "overflow_x": null,
            "overflow_y": null,
            "padding": null,
            "right": null,
            "top": null,
            "visibility": null,
            "width": null
          }
        },
        "3a6086a8213441bbab701653135107a2": {
          "model_module": "@jupyter-widgets/controls",
          "model_module_version": "1.5.0",
          "model_name": "HTMLModel",
          "state": {
            "_dom_classes": [],
            "_model_module": "@jupyter-widgets/controls",
            "_model_module_version": "1.5.0",
            "_model_name": "HTMLModel",
            "_view_count": null,
            "_view_module": "@jupyter-widgets/controls",
            "_view_module_version": "1.5.0",
            "_view_name": "HTMLView",
            "description": "",
            "description_tooltip": null,
            "layout": "IPY_MODEL_f937a46a86ff47b79ca6bdafb59a5e4c",
            "placeholder": "​",
            "style": "IPY_MODEL_faeb392ce11c42f0a1672cea11523181",
            "value": " 440M/440M [00:01&lt;00:00, 419MB/s]"
          }
        },
        "3b5cf89905124f6f834696008b639ec5": {
          "model_module": "@jupyter-widgets/controls",
          "model_module_version": "1.5.0",
          "model_name": "HTMLModel",
          "state": {
            "_dom_classes": [],
            "_model_module": "@jupyter-widgets/controls",
            "_model_module_version": "1.5.0",
            "_model_name": "HTMLModel",
            "_view_count": null,
            "_view_module": "@jupyter-widgets/controls",
            "_view_module_version": "1.5.0",
            "_view_name": "HTMLView",
            "description": "",
            "description_tooltip": null,
            "layout": "IPY_MODEL_2fa31442fc1b4c5e92621ef4e426c9e5",
            "placeholder": "​",
            "style": "IPY_MODEL_cb611289acf04ee1b15c59962c063787",
            "value": "tokenizer.json: 100%"
          }
        },
        "3cae888bc77b490ebcd8b9cc6dcd694b": {
          "model_module": "@jupyter-widgets/base",
          "model_module_version": "1.2.0",
          "model_name": "LayoutModel",
          "state": {
            "_model_module": "@jupyter-widgets/base",
            "_model_module_version": "1.2.0",
            "_model_name": "LayoutModel",
            "_view_count": null,
            "_view_module": "@jupyter-widgets/base",
            "_view_module_version": "1.2.0",
            "_view_name": "LayoutView",
            "align_content": null,
            "align_items": null,
            "align_self": null,
            "border": null,
            "bottom": null,
            "display": null,
            "flex": null,
            "flex_flow": null,
            "grid_area": null,
            "grid_auto_columns": null,
            "grid_auto_flow": null,
            "grid_auto_rows": null,
            "grid_column": null,
            "grid_gap": null,
            "grid_row": null,
            "grid_template_areas": null,
            "grid_template_columns": null,
            "grid_template_rows": null,
            "height": null,
            "justify_content": null,
            "justify_items": null,
            "left": null,
            "margin": null,
            "max_height": null,
            "max_width": null,
            "min_height": null,
            "min_width": null,
            "object_fit": null,
            "object_position": null,
            "order": null,
            "overflow": null,
            "overflow_x": null,
            "overflow_y": null,
            "padding": null,
            "right": null,
            "top": null,
            "visibility": null,
            "width": null
          }
        },
        "4282c2fa8e1a49fca9f3d103984f90c0": {
          "model_module": "@jupyter-widgets/base",
          "model_module_version": "1.2.0",
          "model_name": "LayoutModel",
          "state": {
            "_model_module": "@jupyter-widgets/base",
            "_model_module_version": "1.2.0",
            "_model_name": "LayoutModel",
            "_view_count": null,
            "_view_module": "@jupyter-widgets/base",
            "_view_module_version": "1.2.0",
            "_view_name": "LayoutView",
            "align_content": null,
            "align_items": null,
            "align_self": null,
            "border": null,
            "bottom": null,
            "display": null,
            "flex": null,
            "flex_flow": null,
            "grid_area": null,
            "grid_auto_columns": null,
            "grid_auto_flow": null,
            "grid_auto_rows": null,
            "grid_column": null,
            "grid_gap": null,
            "grid_row": null,
            "grid_template_areas": null,
            "grid_template_columns": null,
            "grid_template_rows": null,
            "height": null,
            "justify_content": null,
            "justify_items": null,
            "left": null,
            "margin": null,
            "max_height": null,
            "max_width": null,
            "min_height": null,
            "min_width": null,
            "object_fit": null,
            "object_position": null,
            "order": null,
            "overflow": null,
            "overflow_x": null,
            "overflow_y": null,
            "padding": null,
            "right": null,
            "top": null,
            "visibility": null,
            "width": null
          }
        },
        "440830cfef784827a88a59bd108a5a7a": {
          "model_module": "@jupyter-widgets/controls",
          "model_module_version": "1.5.0",
          "model_name": "DescriptionStyleModel",
          "state": {
            "_model_module": "@jupyter-widgets/controls",
            "_model_module_version": "1.5.0",
            "_model_name": "DescriptionStyleModel",
            "_view_count": null,
            "_view_module": "@jupyter-widgets/base",
            "_view_module_version": "1.2.0",
            "_view_name": "StyleView",
            "description_width": ""
          }
        },
        "4aff9d1290f247d5a90cf0a0c7c7aa38": {
          "model_module": "@jupyter-widgets/base",
          "model_module_version": "1.2.0",
          "model_name": "LayoutModel",
          "state": {
            "_model_module": "@jupyter-widgets/base",
            "_model_module_version": "1.2.0",
            "_model_name": "LayoutModel",
            "_view_count": null,
            "_view_module": "@jupyter-widgets/base",
            "_view_module_version": "1.2.0",
            "_view_name": "LayoutView",
            "align_content": null,
            "align_items": null,
            "align_self": null,
            "border": null,
            "bottom": null,
            "display": null,
            "flex": null,
            "flex_flow": null,
            "grid_area": null,
            "grid_auto_columns": null,
            "grid_auto_flow": null,
            "grid_auto_rows": null,
            "grid_column": null,
            "grid_gap": null,
            "grid_row": null,
            "grid_template_areas": null,
            "grid_template_columns": null,
            "grid_template_rows": null,
            "height": null,
            "justify_content": null,
            "justify_items": null,
            "left": null,
            "margin": null,
            "max_height": null,
            "max_width": null,
            "min_height": null,
            "min_width": null,
            "object_fit": null,
            "object_position": null,
            "order": null,
            "overflow": null,
            "overflow_x": null,
            "overflow_y": null,
            "padding": null,
            "right": null,
            "top": null,
            "visibility": null,
            "width": null
          }
        },
        "4b975b7707ea463daebadcee38b08afc": {
          "model_module": "@jupyter-widgets/controls",
          "model_module_version": "1.5.0",
          "model_name": "ProgressStyleModel",
          "state": {
            "_model_module": "@jupyter-widgets/controls",
            "_model_module_version": "1.5.0",
            "_model_name": "ProgressStyleModel",
            "_view_count": null,
            "_view_module": "@jupyter-widgets/base",
            "_view_module_version": "1.2.0",
            "_view_name": "StyleView",
            "bar_color": null,
            "description_width": ""
          }
        },
        "4e62a4dec10b4de89325685f40c295b8": {
          "model_module": "@jupyter-widgets/base",
          "model_module_version": "1.2.0",
          "model_name": "LayoutModel",
          "state": {
            "_model_module": "@jupyter-widgets/base",
            "_model_module_version": "1.2.0",
            "_model_name": "LayoutModel",
            "_view_count": null,
            "_view_module": "@jupyter-widgets/base",
            "_view_module_version": "1.2.0",
            "_view_name": "LayoutView",
            "align_content": null,
            "align_items": null,
            "align_self": null,
            "border": null,
            "bottom": null,
            "display": null,
            "flex": null,
            "flex_flow": null,
            "grid_area": null,
            "grid_auto_columns": null,
            "grid_auto_flow": null,
            "grid_auto_rows": null,
            "grid_column": null,
            "grid_gap": null,
            "grid_row": null,
            "grid_template_areas": null,
            "grid_template_columns": null,
            "grid_template_rows": null,
            "height": null,
            "justify_content": null,
            "justify_items": null,
            "left": null,
            "margin": null,
            "max_height": null,
            "max_width": null,
            "min_height": null,
            "min_width": null,
            "object_fit": null,
            "object_position": null,
            "order": null,
            "overflow": null,
            "overflow_x": null,
            "overflow_y": null,
            "padding": null,
            "right": null,
            "top": null,
            "visibility": null,
            "width": null
          }
        },
        "52fce3f7f9924187a1e21b7cbe72f94b": {
          "model_module": "@jupyter-widgets/base",
          "model_module_version": "1.2.0",
          "model_name": "LayoutModel",
          "state": {
            "_model_module": "@jupyter-widgets/base",
            "_model_module_version": "1.2.0",
            "_model_name": "LayoutModel",
            "_view_count": null,
            "_view_module": "@jupyter-widgets/base",
            "_view_module_version": "1.2.0",
            "_view_name": "LayoutView",
            "align_content": null,
            "align_items": null,
            "align_self": null,
            "border": null,
            "bottom": null,
            "display": null,
            "flex": null,
            "flex_flow": null,
            "grid_area": null,
            "grid_auto_columns": null,
            "grid_auto_flow": null,
            "grid_auto_rows": null,
            "grid_column": null,
            "grid_gap": null,
            "grid_row": null,
            "grid_template_areas": null,
            "grid_template_columns": null,
            "grid_template_rows": null,
            "height": null,
            "justify_content": null,
            "justify_items": null,
            "left": null,
            "margin": null,
            "max_height": null,
            "max_width": null,
            "min_height": null,
            "min_width": null,
            "object_fit": null,
            "object_position": null,
            "order": null,
            "overflow": null,
            "overflow_x": null,
            "overflow_y": null,
            "padding": null,
            "right": null,
            "top": null,
            "visibility": null,
            "width": null
          }
        },
        "6010c6e8d8ea4eeba318e5ec4c5efd8d": {
          "model_module": "@jupyter-widgets/controls",
          "model_module_version": "1.5.0",
          "model_name": "FloatProgressModel",
          "state": {
            "_dom_classes": [],
            "_model_module": "@jupyter-widgets/controls",
            "_model_module_version": "1.5.0",
            "_model_name": "FloatProgressModel",
            "_view_count": null,
            "_view_module": "@jupyter-widgets/controls",
            "_view_module_version": "1.5.0",
            "_view_name": "ProgressView",
            "bar_style": "success",
            "description": "",
            "description_tooltip": null,
            "layout": "IPY_MODEL_52fce3f7f9924187a1e21b7cbe72f94b",
            "max": 440449768,
            "min": 0,
            "orientation": "horizontal",
            "style": "IPY_MODEL_12ad89a008ba4ae79b78f7d284ccd285",
            "value": 440449768
          }
        },
        "6495a207c9424257adb8d738e22f536a": {
          "model_module": "@jupyter-widgets/controls",
          "model_module_version": "1.5.0",
          "model_name": "FloatProgressModel",
          "state": {
            "_dom_classes": [],
            "_model_module": "@jupyter-widgets/controls",
            "_model_module_version": "1.5.0",
            "_model_name": "FloatProgressModel",
            "_view_count": null,
            "_view_module": "@jupyter-widgets/controls",
            "_view_module_version": "1.5.0",
            "_view_name": "ProgressView",
            "bar_style": "success",
            "description": "",
            "description_tooltip": null,
            "layout": "IPY_MODEL_4aff9d1290f247d5a90cf0a0c7c7aa38",
            "max": 466062,
            "min": 0,
            "orientation": "horizontal",
            "style": "IPY_MODEL_dee613da0924410aa66e211b95fad383",
            "value": 466062
          }
        },
        "677b94f5778a481eb79103266d27b79e": {
          "model_module": "@jupyter-widgets/controls",
          "model_module_version": "1.5.0",
          "model_name": "HBoxModel",
          "state": {
            "_dom_classes": [],
            "_model_module": "@jupyter-widgets/controls",
            "_model_module_version": "1.5.0",
            "_model_name": "HBoxModel",
            "_view_count": null,
            "_view_module": "@jupyter-widgets/controls",
            "_view_module_version": "1.5.0",
            "_view_name": "HBoxView",
            "box_style": "",
            "children": [
              "IPY_MODEL_aa038c96edb549b7bbbfb26f4a3aa91d",
              "IPY_MODEL_b43cfd0bd3fa405e9a8e8465c4bd7d26",
              "IPY_MODEL_22e8cc3e132443c98ced426109ca2687"
            ],
            "layout": "IPY_MODEL_f4e00348f60842f2bc543b3243115522"
          }
        },
        "6cb1cb266e4d4be58ee7740045cca26f": {
          "model_module": "@jupyter-widgets/controls",
          "model_module_version": "1.5.0",
          "model_name": "DescriptionStyleModel",
          "state": {
            "_model_module": "@jupyter-widgets/controls",
            "_model_module_version": "1.5.0",
            "_model_name": "DescriptionStyleModel",
            "_view_count": null,
            "_view_module": "@jupyter-widgets/base",
            "_view_module_version": "1.2.0",
            "_view_name": "StyleView",
            "description_width": ""
          }
        },
        "7f671eb69a034293bbf8f87654ade8fa": {
          "model_module": "@jupyter-widgets/base",
          "model_module_version": "1.2.0",
          "model_name": "LayoutModel",
          "state": {
            "_model_module": "@jupyter-widgets/base",
            "_model_module_version": "1.2.0",
            "_model_name": "LayoutModel",
            "_view_count": null,
            "_view_module": "@jupyter-widgets/base",
            "_view_module_version": "1.2.0",
            "_view_name": "LayoutView",
            "align_content": null,
            "align_items": null,
            "align_self": null,
            "border": null,
            "bottom": null,
            "display": null,
            "flex": null,
            "flex_flow": null,
            "grid_area": null,
            "grid_auto_columns": null,
            "grid_auto_flow": null,
            "grid_auto_rows": null,
            "grid_column": null,
            "grid_gap": null,
            "grid_row": null,
            "grid_template_areas": null,
            "grid_template_columns": null,
            "grid_template_rows": null,
            "height": null,
            "justify_content": null,
            "justify_items": null,
            "left": null,
            "margin": null,
            "max_height": null,
            "max_width": null,
            "min_height": null,
            "min_width": null,
            "object_fit": null,
            "object_position": null,
            "order": null,
            "overflow": null,
            "overflow_x": null,
            "overflow_y": null,
            "padding": null,
            "right": null,
            "top": null,
            "visibility": null,
            "width": null
          }
        },
        "8400e44cee934c628c4786c18a4a738a": {
          "model_module": "@jupyter-widgets/base",
          "model_module_version": "1.2.0",
          "model_name": "LayoutModel",
          "state": {
            "_model_module": "@jupyter-widgets/base",
            "_model_module_version": "1.2.0",
            "_model_name": "LayoutModel",
            "_view_count": null,
            "_view_module": "@jupyter-widgets/base",
            "_view_module_version": "1.2.0",
            "_view_name": "LayoutView",
            "align_content": null,
            "align_items": null,
            "align_self": null,
            "border": null,
            "bottom": null,
            "display": null,
            "flex": null,
            "flex_flow": null,
            "grid_area": null,
            "grid_auto_columns": null,
            "grid_auto_flow": null,
            "grid_auto_rows": null,
            "grid_column": null,
            "grid_gap": null,
            "grid_row": null,
            "grid_template_areas": null,
            "grid_template_columns": null,
            "grid_template_rows": null,
            "height": null,
            "justify_content": null,
            "justify_items": null,
            "left": null,
            "margin": null,
            "max_height": null,
            "max_width": null,
            "min_height": null,
            "min_width": null,
            "object_fit": null,
            "object_position": null,
            "order": null,
            "overflow": null,
            "overflow_x": null,
            "overflow_y": null,
            "padding": null,
            "right": null,
            "top": null,
            "visibility": null,
            "width": null
          }
        },
        "8f858fa5c8c046998b6cb8a6cc649693": {
          "model_module": "@jupyter-widgets/base",
          "model_module_version": "1.2.0",
          "model_name": "LayoutModel",
          "state": {
            "_model_module": "@jupyter-widgets/base",
            "_model_module_version": "1.2.0",
            "_model_name": "LayoutModel",
            "_view_count": null,
            "_view_module": "@jupyter-widgets/base",
            "_view_module_version": "1.2.0",
            "_view_name": "LayoutView",
            "align_content": null,
            "align_items": null,
            "align_self": null,
            "border": null,
            "bottom": null,
            "display": null,
            "flex": null,
            "flex_flow": null,
            "grid_area": null,
            "grid_auto_columns": null,
            "grid_auto_flow": null,
            "grid_auto_rows": null,
            "grid_column": null,
            "grid_gap": null,
            "grid_row": null,
            "grid_template_areas": null,
            "grid_template_columns": null,
            "grid_template_rows": null,
            "height": null,
            "justify_content": null,
            "justify_items": null,
            "left": null,
            "margin": null,
            "max_height": null,
            "max_width": null,
            "min_height": null,
            "min_width": null,
            "object_fit": null,
            "object_position": null,
            "order": null,
            "overflow": null,
            "overflow_x": null,
            "overflow_y": null,
            "padding": null,
            "right": null,
            "top": null,
            "visibility": null,
            "width": null
          }
        },
        "8f89e02b7a804ff8b946a2273dffc827": {
          "model_module": "@jupyter-widgets/controls",
          "model_module_version": "1.5.0",
          "model_name": "DescriptionStyleModel",
          "state": {
            "_model_module": "@jupyter-widgets/controls",
            "_model_module_version": "1.5.0",
            "_model_name": "DescriptionStyleModel",
            "_view_count": null,
            "_view_module": "@jupyter-widgets/base",
            "_view_module_version": "1.2.0",
            "_view_name": "StyleView",
            "description_width": ""
          }
        },
        "910b88a9da72431fb3b6158b92c3be8a": {
          "model_module": "@jupyter-widgets/controls",
          "model_module_version": "1.5.0",
          "model_name": "DescriptionStyleModel",
          "state": {
            "_model_module": "@jupyter-widgets/controls",
            "_model_module_version": "1.5.0",
            "_model_name": "DescriptionStyleModel",
            "_view_count": null,
            "_view_module": "@jupyter-widgets/base",
            "_view_module_version": "1.2.0",
            "_view_name": "StyleView",
            "description_width": ""
          }
        },
        "9a96ac2331cb454389f686247b32f907": {
          "model_module": "@jupyter-widgets/controls",
          "model_module_version": "1.5.0",
          "model_name": "FloatProgressModel",
          "state": {
            "_dom_classes": [],
            "_model_module": "@jupyter-widgets/controls",
            "_model_module_version": "1.5.0",
            "_model_name": "FloatProgressModel",
            "_view_count": null,
            "_view_module": "@jupyter-widgets/controls",
            "_view_module_version": "1.5.0",
            "_view_name": "ProgressView",
            "bar_style": "success",
            "description": "",
            "description_tooltip": null,
            "layout": "IPY_MODEL_9facd693de7c42928931a43026be1ce7",
            "max": 570,
            "min": 0,
            "orientation": "horizontal",
            "style": "IPY_MODEL_ed4a4654029b400b95257e335ebcbb99",
            "value": 570
          }
        },
        "9facd693de7c42928931a43026be1ce7": {
          "model_module": "@jupyter-widgets/base",
          "model_module_version": "1.2.0",
          "model_name": "LayoutModel",
          "state": {
            "_model_module": "@jupyter-widgets/base",
            "_model_module_version": "1.2.0",
            "_model_name": "LayoutModel",
            "_view_count": null,
            "_view_module": "@jupyter-widgets/base",
            "_view_module_version": "1.2.0",
            "_view_name": "LayoutView",
            "align_content": null,
            "align_items": null,
            "align_self": null,
            "border": null,
            "bottom": null,
            "display": null,
            "flex": null,
            "flex_flow": null,
            "grid_area": null,
            "grid_auto_columns": null,
            "grid_auto_flow": null,
            "grid_auto_rows": null,
            "grid_column": null,
            "grid_gap": null,
            "grid_row": null,
            "grid_template_areas": null,
            "grid_template_columns": null,
            "grid_template_rows": null,
            "height": null,
            "justify_content": null,
            "justify_items": null,
            "left": null,
            "margin": null,
            "max_height": null,
            "max_width": null,
            "min_height": null,
            "min_width": null,
            "object_fit": null,
            "object_position": null,
            "order": null,
            "overflow": null,
            "overflow_x": null,
            "overflow_y": null,
            "padding": null,
            "right": null,
            "top": null,
            "visibility": null,
            "width": null
          }
        },
        "a7b4440c4ffd4ae5b8053b5e48eb16cd": {
          "model_module": "@jupyter-widgets/base",
          "model_module_version": "1.2.0",
          "model_name": "LayoutModel",
          "state": {
            "_model_module": "@jupyter-widgets/base",
            "_model_module_version": "1.2.0",
            "_model_name": "LayoutModel",
            "_view_count": null,
            "_view_module": "@jupyter-widgets/base",
            "_view_module_version": "1.2.0",
            "_view_name": "LayoutView",
            "align_content": null,
            "align_items": null,
            "align_self": null,
            "border": null,
            "bottom": null,
            "display": null,
            "flex": null,
            "flex_flow": null,
            "grid_area": null,
            "grid_auto_columns": null,
            "grid_auto_flow": null,
            "grid_auto_rows": null,
            "grid_column": null,
            "grid_gap": null,
            "grid_row": null,
            "grid_template_areas": null,
            "grid_template_columns": null,
            "grid_template_rows": null,
            "height": null,
            "justify_content": null,
            "justify_items": null,
            "left": null,
            "margin": null,
            "max_height": null,
            "max_width": null,
            "min_height": null,
            "min_width": null,
            "object_fit": null,
            "object_position": null,
            "order": null,
            "overflow": null,
            "overflow_x": null,
            "overflow_y": null,
            "padding": null,
            "right": null,
            "top": null,
            "visibility": null,
            "width": null
          }
        },
        "aa038c96edb549b7bbbfb26f4a3aa91d": {
          "model_module": "@jupyter-widgets/controls",
          "model_module_version": "1.5.0",
          "model_name": "HTMLModel",
          "state": {
            "_dom_classes": [],
            "_model_module": "@jupyter-widgets/controls",
            "_model_module_version": "1.5.0",
            "_model_name": "HTMLModel",
            "_view_count": null,
            "_view_module": "@jupyter-widgets/controls",
            "_view_module_version": "1.5.0",
            "_view_name": "HTMLView",
            "description": "",
            "description_tooltip": null,
            "layout": "IPY_MODEL_b6670914181742a291502f0dc8fc8ef4",
            "placeholder": "​",
            "style": "IPY_MODEL_ceaeaf803fdb4be49b62c6acefee455b",
            "value": "vocab.txt: 100%"
          }
        },
        "af2f9b735aa044ffa696c01cd66860a2": {
          "model_module": "@jupyter-widgets/base",
          "model_module_version": "1.2.0",
          "model_name": "LayoutModel",
          "state": {
            "_model_module": "@jupyter-widgets/base",
            "_model_module_version": "1.2.0",
            "_model_name": "LayoutModel",
            "_view_count": null,
            "_view_module": "@jupyter-widgets/base",
            "_view_module_version": "1.2.0",
            "_view_name": "LayoutView",
            "align_content": null,
            "align_items": null,
            "align_self": null,
            "border": null,
            "bottom": null,
            "display": null,
            "flex": null,
            "flex_flow": null,
            "grid_area": null,
            "grid_auto_columns": null,
            "grid_auto_flow": null,
            "grid_auto_rows": null,
            "grid_column": null,
            "grid_gap": null,
            "grid_row": null,
            "grid_template_areas": null,
            "grid_template_columns": null,
            "grid_template_rows": null,
            "height": null,
            "justify_content": null,
            "justify_items": null,
            "left": null,
            "margin": null,
            "max_height": null,
            "max_width": null,
            "min_height": null,
            "min_width": null,
            "object_fit": null,
            "object_position": null,
            "order": null,
            "overflow": null,
            "overflow_x": null,
            "overflow_y": null,
            "padding": null,
            "right": null,
            "top": null,
            "visibility": null,
            "width": null
          }
        },
        "b43cfd0bd3fa405e9a8e8465c4bd7d26": {
          "model_module": "@jupyter-widgets/controls",
          "model_module_version": "1.5.0",
          "model_name": "FloatProgressModel",
          "state": {
            "_dom_classes": [],
            "_model_module": "@jupyter-widgets/controls",
            "_model_module_version": "1.5.0",
            "_model_name": "FloatProgressModel",
            "_view_count": null,
            "_view_module": "@jupyter-widgets/controls",
            "_view_module_version": "1.5.0",
            "_view_name": "ProgressView",
            "bar_style": "success",
            "description": "",
            "description_tooltip": null,
            "layout": "IPY_MODEL_e416a2878cb449f5a77aba1e7dce7d1d",
            "max": 231508,
            "min": 0,
            "orientation": "horizontal",
            "style": "IPY_MODEL_4b975b7707ea463daebadcee38b08afc",
            "value": 231508
          }
        },
        "b6670914181742a291502f0dc8fc8ef4": {
          "model_module": "@jupyter-widgets/base",
          "model_module_version": "1.2.0",
          "model_name": "LayoutModel",
          "state": {
            "_model_module": "@jupyter-widgets/base",
            "_model_module_version": "1.2.0",
            "_model_name": "LayoutModel",
            "_view_count": null,
            "_view_module": "@jupyter-widgets/base",
            "_view_module_version": "1.2.0",
            "_view_name": "LayoutView",
            "align_content": null,
            "align_items": null,
            "align_self": null,
            "border": null,
            "bottom": null,
            "display": null,
            "flex": null,
            "flex_flow": null,
            "grid_area": null,
            "grid_auto_columns": null,
            "grid_auto_flow": null,
            "grid_auto_rows": null,
            "grid_column": null,
            "grid_gap": null,
            "grid_row": null,
            "grid_template_areas": null,
            "grid_template_columns": null,
            "grid_template_rows": null,
            "height": null,
            "justify_content": null,
            "justify_items": null,
            "left": null,
            "margin": null,
            "max_height": null,
            "max_width": null,
            "min_height": null,
            "min_width": null,
            "object_fit": null,
            "object_position": null,
            "order": null,
            "overflow": null,
            "overflow_x": null,
            "overflow_y": null,
            "padding": null,
            "right": null,
            "top": null,
            "visibility": null,
            "width": null
          }
        },
        "bab87c271a164292a2d336a385c9205a": {
          "model_module": "@jupyter-widgets/controls",
          "model_module_version": "1.5.0",
          "model_name": "HTMLModel",
          "state": {
            "_dom_classes": [],
            "_model_module": "@jupyter-widgets/controls",
            "_model_module_version": "1.5.0",
            "_model_name": "HTMLModel",
            "_view_count": null,
            "_view_module": "@jupyter-widgets/controls",
            "_view_module_version": "1.5.0",
            "_view_name": "HTMLView",
            "description": "",
            "description_tooltip": null,
            "layout": "IPY_MODEL_092242be9d1a468b8222718da130226f",
            "placeholder": "​",
            "style": "IPY_MODEL_6cb1cb266e4d4be58ee7740045cca26f",
            "value": "tokenizer_config.json: 100%"
          }
        },
        "bc352e851ad646e4a35f3c6fec45948d": {
          "model_module": "@jupyter-widgets/controls",
          "model_module_version": "1.5.0",
          "model_name": "HBoxModel",
          "state": {
            "_dom_classes": [],
            "_model_module": "@jupyter-widgets/controls",
            "_model_module_version": "1.5.0",
            "_model_name": "HBoxModel",
            "_view_count": null,
            "_view_module": "@jupyter-widgets/controls",
            "_view_module_version": "1.5.0",
            "_view_name": "HBoxView",
            "box_style": "",
            "children": [
              "IPY_MODEL_3b5cf89905124f6f834696008b639ec5",
              "IPY_MODEL_6495a207c9424257adb8d738e22f536a",
              "IPY_MODEL_12ffb75c05ed4921a26bdd503391622d"
            ],
            "layout": "IPY_MODEL_8400e44cee934c628c4786c18a4a738a"
          }
        },
        "c06a8fe9f3d142bd9dca93ae66d367c9": {
          "model_module": "@jupyter-widgets/controls",
          "model_module_version": "1.5.0",
          "model_name": "HTMLModel",
          "state": {
            "_dom_classes": [],
            "_model_module": "@jupyter-widgets/controls",
            "_model_module_version": "1.5.0",
            "_model_name": "HTMLModel",
            "_view_count": null,
            "_view_module": "@jupyter-widgets/controls",
            "_view_module_version": "1.5.0",
            "_view_name": "HTMLView",
            "description": "",
            "description_tooltip": null,
            "layout": "IPY_MODEL_3cae888bc77b490ebcd8b9cc6dcd694b",
            "placeholder": "​",
            "style": "IPY_MODEL_8f89e02b7a804ff8b946a2273dffc827",
            "value": "model.safetensors: 100%"
          }
        },
        "c49aea0344414af2b8b0466a41fc66bd": {
          "model_module": "@jupyter-widgets/base",
          "model_module_version": "1.2.0",
          "model_name": "LayoutModel",
          "state": {
            "_model_module": "@jupyter-widgets/base",
            "_model_module_version": "1.2.0",
            "_model_name": "LayoutModel",
            "_view_count": null,
            "_view_module": "@jupyter-widgets/base",
            "_view_module_version": "1.2.0",
            "_view_name": "LayoutView",
            "align_content": null,
            "align_items": null,
            "align_self": null,
            "border": null,
            "bottom": null,
            "display": null,
            "flex": null,
            "flex_flow": null,
            "grid_area": null,
            "grid_auto_columns": null,
            "grid_auto_flow": null,
            "grid_auto_rows": null,
            "grid_column": null,
            "grid_gap": null,
            "grid_row": null,
            "grid_template_areas": null,
            "grid_template_columns": null,
            "grid_template_rows": null,
            "height": null,
            "justify_content": null,
            "justify_items": null,
            "left": null,
            "margin": null,
            "max_height": null,
            "max_width": null,
            "min_height": null,
            "min_width": null,
            "object_fit": null,
            "object_position": null,
            "order": null,
            "overflow": null,
            "overflow_x": null,
            "overflow_y": null,
            "padding": null,
            "right": null,
            "top": null,
            "visibility": null,
            "width": null
          }
        },
        "cb611289acf04ee1b15c59962c063787": {
          "model_module": "@jupyter-widgets/controls",
          "model_module_version": "1.5.0",
          "model_name": "DescriptionStyleModel",
          "state": {
            "_model_module": "@jupyter-widgets/controls",
            "_model_module_version": "1.5.0",
            "_model_name": "DescriptionStyleModel",
            "_view_count": null,
            "_view_module": "@jupyter-widgets/base",
            "_view_module_version": "1.2.0",
            "_view_name": "StyleView",
            "description_width": ""
          }
        },
        "ceaeaf803fdb4be49b62c6acefee455b": {
          "model_module": "@jupyter-widgets/controls",
          "model_module_version": "1.5.0",
          "model_name": "DescriptionStyleModel",
          "state": {
            "_model_module": "@jupyter-widgets/controls",
            "_model_module_version": "1.5.0",
            "_model_name": "DescriptionStyleModel",
            "_view_count": null,
            "_view_module": "@jupyter-widgets/base",
            "_view_module_version": "1.2.0",
            "_view_name": "StyleView",
            "description_width": ""
          }
        },
        "dee613da0924410aa66e211b95fad383": {
          "model_module": "@jupyter-widgets/controls",
          "model_module_version": "1.5.0",
          "model_name": "ProgressStyleModel",
          "state": {
            "_model_module": "@jupyter-widgets/controls",
            "_model_module_version": "1.5.0",
            "_model_name": "ProgressStyleModel",
            "_view_count": null,
            "_view_module": "@jupyter-widgets/base",
            "_view_module_version": "1.2.0",
            "_view_name": "StyleView",
            "bar_color": null,
            "description_width": ""
          }
        },
        "e150f2cae4be4dcf9a9bb798e87f7f47": {
          "model_module": "@jupyter-widgets/controls",
          "model_module_version": "1.5.0",
          "model_name": "HTMLModel",
          "state": {
            "_dom_classes": [],
            "_model_module": "@jupyter-widgets/controls",
            "_model_module_version": "1.5.0",
            "_model_name": "HTMLModel",
            "_view_count": null,
            "_view_module": "@jupyter-widgets/controls",
            "_view_module_version": "1.5.0",
            "_view_name": "HTMLView",
            "description": "",
            "description_tooltip": null,
            "layout": "IPY_MODEL_af2f9b735aa044ffa696c01cd66860a2",
            "placeholder": "​",
            "style": "IPY_MODEL_910b88a9da72431fb3b6158b92c3be8a",
            "value": " 48.0/48.0 [00:00&lt;00:00, 2.01kB/s]"
          }
        },
        "e416a2878cb449f5a77aba1e7dce7d1d": {
          "model_module": "@jupyter-widgets/base",
          "model_module_version": "1.2.0",
          "model_name": "LayoutModel",
          "state": {
            "_model_module": "@jupyter-widgets/base",
            "_model_module_version": "1.2.0",
            "_model_name": "LayoutModel",
            "_view_count": null,
            "_view_module": "@jupyter-widgets/base",
            "_view_module_version": "1.2.0",
            "_view_name": "LayoutView",
            "align_content": null,
            "align_items": null,
            "align_self": null,
            "border": null,
            "bottom": null,
            "display": null,
            "flex": null,
            "flex_flow": null,
            "grid_area": null,
            "grid_auto_columns": null,
            "grid_auto_flow": null,
            "grid_auto_rows": null,
            "grid_column": null,
            "grid_gap": null,
            "grid_row": null,
            "grid_template_areas": null,
            "grid_template_columns": null,
            "grid_template_rows": null,
            "height": null,
            "justify_content": null,
            "justify_items": null,
            "left": null,
            "margin": null,
            "max_height": null,
            "max_width": null,
            "min_height": null,
            "min_width": null,
            "object_fit": null,
            "object_position": null,
            "order": null,
            "overflow": null,
            "overflow_x": null,
            "overflow_y": null,
            "padding": null,
            "right": null,
            "top": null,
            "visibility": null,
            "width": null
          }
        },
        "ec6fa3c7b6324f3cbe6e4b2e392486da": {
          "model_module": "@jupyter-widgets/controls",
          "model_module_version": "1.5.0",
          "model_name": "FloatProgressModel",
          "state": {
            "_dom_classes": [],
            "_model_module": "@jupyter-widgets/controls",
            "_model_module_version": "1.5.0",
            "_model_name": "FloatProgressModel",
            "_view_count": null,
            "_view_module": "@jupyter-widgets/controls",
            "_view_module_version": "1.5.0",
            "_view_name": "ProgressView",
            "bar_style": "success",
            "description": "",
            "description_tooltip": null,
            "layout": "IPY_MODEL_7f671eb69a034293bbf8f87654ade8fa",
            "max": 48,
            "min": 0,
            "orientation": "horizontal",
            "style": "IPY_MODEL_01ceaa31543540e3952dcfea9981aa5a",
            "value": 48
          }
        },
        "ed4a4654029b400b95257e335ebcbb99": {
          "model_module": "@jupyter-widgets/controls",
          "model_module_version": "1.5.0",
          "model_name": "ProgressStyleModel",
          "state": {
            "_model_module": "@jupyter-widgets/controls",
            "_model_module_version": "1.5.0",
            "_model_name": "ProgressStyleModel",
            "_view_count": null,
            "_view_module": "@jupyter-widgets/base",
            "_view_module_version": "1.2.0",
            "_view_name": "StyleView",
            "bar_color": null,
            "description_width": ""
          }
        },
        "f4e00348f60842f2bc543b3243115522": {
          "model_module": "@jupyter-widgets/base",
          "model_module_version": "1.2.0",
          "model_name": "LayoutModel",
          "state": {
            "_model_module": "@jupyter-widgets/base",
            "_model_module_version": "1.2.0",
            "_model_name": "LayoutModel",
            "_view_count": null,
            "_view_module": "@jupyter-widgets/base",
            "_view_module_version": "1.2.0",
            "_view_name": "LayoutView",
            "align_content": null,
            "align_items": null,
            "align_self": null,
            "border": null,
            "bottom": null,
            "display": null,
            "flex": null,
            "flex_flow": null,
            "grid_area": null,
            "grid_auto_columns": null,
            "grid_auto_flow": null,
            "grid_auto_rows": null,
            "grid_column": null,
            "grid_gap": null,
            "grid_row": null,
            "grid_template_areas": null,
            "grid_template_columns": null,
            "grid_template_rows": null,
            "height": null,
            "justify_content": null,
            "justify_items": null,
            "left": null,
            "margin": null,
            "max_height": null,
            "max_width": null,
            "min_height": null,
            "min_width": null,
            "object_fit": null,
            "object_position": null,
            "order": null,
            "overflow": null,
            "overflow_x": null,
            "overflow_y": null,
            "padding": null,
            "right": null,
            "top": null,
            "visibility": null,
            "width": null
          }
        },
        "f937a46a86ff47b79ca6bdafb59a5e4c": {
          "model_module": "@jupyter-widgets/base",
          "model_module_version": "1.2.0",
          "model_name": "LayoutModel",
          "state": {
            "_model_module": "@jupyter-widgets/base",
            "_model_module_version": "1.2.0",
            "_model_name": "LayoutModel",
            "_view_count": null,
            "_view_module": "@jupyter-widgets/base",
            "_view_module_version": "1.2.0",
            "_view_name": "LayoutView",
            "align_content": null,
            "align_items": null,
            "align_self": null,
            "border": null,
            "bottom": null,
            "display": null,
            "flex": null,
            "flex_flow": null,
            "grid_area": null,
            "grid_auto_columns": null,
            "grid_auto_flow": null,
            "grid_auto_rows": null,
            "grid_column": null,
            "grid_gap": null,
            "grid_row": null,
            "grid_template_areas": null,
            "grid_template_columns": null,
            "grid_template_rows": null,
            "height": null,
            "justify_content": null,
            "justify_items": null,
            "left": null,
            "margin": null,
            "max_height": null,
            "max_width": null,
            "min_height": null,
            "min_width": null,
            "object_fit": null,
            "object_position": null,
            "order": null,
            "overflow": null,
            "overflow_x": null,
            "overflow_y": null,
            "padding": null,
            "right": null,
            "top": null,
            "visibility": null,
            "width": null
          }
        },
        "faeb392ce11c42f0a1672cea11523181": {
          "model_module": "@jupyter-widgets/controls",
          "model_module_version": "1.5.0",
          "model_name": "DescriptionStyleModel",
          "state": {
            "_model_module": "@jupyter-widgets/controls",
            "_model_module_version": "1.5.0",
            "_model_name": "DescriptionStyleModel",
            "_view_count": null,
            "_view_module": "@jupyter-widgets/base",
            "_view_module_version": "1.2.0",
            "_view_name": "StyleView",
            "description_width": ""
          }
        },
        "fcb85433447c45b08b2b35a0d82cdc8d": {
          "model_module": "@jupyter-widgets/base",
          "model_module_version": "1.2.0",
          "model_name": "LayoutModel",
          "state": {
            "_model_module": "@jupyter-widgets/base",
            "_model_module_version": "1.2.0",
            "_model_name": "LayoutModel",
            "_view_count": null,
            "_view_module": "@jupyter-widgets/base",
            "_view_module_version": "1.2.0",
            "_view_name": "LayoutView",
            "align_content": null,
            "align_items": null,
            "align_self": null,
            "border": null,
            "bottom": null,
            "display": null,
            "flex": null,
            "flex_flow": null,
            "grid_area": null,
            "grid_auto_columns": null,
            "grid_auto_flow": null,
            "grid_auto_rows": null,
            "grid_column": null,
            "grid_gap": null,
            "grid_row": null,
            "grid_template_areas": null,
            "grid_template_columns": null,
            "grid_template_rows": null,
            "height": null,
            "justify_content": null,
            "justify_items": null,
            "left": null,
            "margin": null,
            "max_height": null,
            "max_width": null,
            "min_height": null,
            "min_width": null,
            "object_fit": null,
            "object_position": null,
            "order": null,
            "overflow": null,
            "overflow_x": null,
            "overflow_y": null,
            "padding": null,
            "right": null,
            "top": null,
            "visibility": null,
            "width": null
          }
        }
      }
    }
  },
  "nbformat": 4,
  "nbformat_minor": 0
}
